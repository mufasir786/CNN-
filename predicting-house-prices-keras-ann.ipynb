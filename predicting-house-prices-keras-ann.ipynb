{
 "cells": [
  {
   "cell_type": "markdown",
   "metadata": {
    "papermill": {
     "duration": 0.043606,
     "end_time": "2020-09-26T15:46:01.702278",
     "exception": false,
     "start_time": "2020-09-26T15:46:01.658672",
     "status": "completed"
    },
    "tags": []
   },
   "source": [
    "<hr/>\n",
    "\n",
    "# Predicting House Prices (Keras - Artificial Neural Network)\n",
    "**[by Tomas Mantero](https://www.kaggle.com/tomasmantero)**\n",
    "<hr/>\n",
    "\n",
    "### Table of Contents\n",
    "1. [Overview](#ch1)\n",
    "1. [Dataset](#ch2)\n",
    "1. [Exploratory Data Analysis](#ch3)\n",
    "1. [Working with Feature Data](#ch4)\n",
    "1. [Feature Engineering](#ch5)\n",
    "1. [Scaling and Train Test Split](#ch6)\n",
    "1. [Creating a Model](#ch7)\n",
    "1. [Training the Model](#ch8)\n",
    "1. [Evaluation on Test Data](#ch9)\n",
    "1. [Predicting on a Brand New House](#ch10)"
   ]
  },
  {
   "cell_type": "markdown",
   "metadata": {
    "papermill": {
     "duration": 0.035833,
     "end_time": "2020-09-26T15:46:01.776524",
     "exception": false,
     "start_time": "2020-09-26T15:46:01.740691",
     "status": "completed"
    },
    "tags": []
   },
   "source": [
    "<a id=\"ch1\"></a>\n",
    "## Overview \n",
    "<hr/>\n",
    "\n",
    "One of the objectives of this notebook is to **show step-by-step how to analyze and visualize the dataset to predict future home prices.** Moreover, we are going to explain most of the concepts used so that you understand why we are using them.\n",
    "In base of features like sqft_living, bathrooms, bedrooms, view, and others, we are going to build a deep learning model that can predict future price houses. \n",
    "\n",
    "If you have a question or feedback, do not hesitate to write and if you like this kernel,<b><font color='green'> please upvote! </font></b>\n",
    "\n",
    "<img src=\"https://images.pexels.com/photos/1546168/pexels-photo-1546168.jpeg?auto=compress&cs=tinysrgb&dpr=3&h=750&w=1260\" title=\"source: www.pexels.com\" />\n",
    "<br>\n",
    "\n",
    "The following questions will be answered throughout the Kernel:\n",
    "* ***Which features are available in the dataset?***\n",
    "* ***Which features are categorical?***\n",
    "* ***Which features are numerical?***\n",
    "* ***Which features contain blank, null or empty values?***\n",
    "* ***What are the data types for various features?***\n",
    "* ***What is the distribution of numerical feature values across the samples?***\n",
    "* ***Which features are more correlated to the price?***"
   ]
  },
  {
   "cell_type": "markdown",
   "metadata": {
    "papermill": {
     "duration": 0.035894,
     "end_time": "2020-09-26T15:46:01.848901",
     "exception": false,
     "start_time": "2020-09-26T15:46:01.813007",
     "status": "completed"
    },
    "tags": []
   },
   "source": [
    "<a id=\"ch2\"></a>\n",
    "## Dataset\n",
    "<hr/>\n",
    "\n",
    "* This dataset contains house sale prices for King County, which includes Seattle. \n",
    "* It includes homes sold between May 2014 and May 2015.\n",
    "* 21 columns. (features)\n",
    "* 21597 rows.\n",
    "\n",
    "***Feature Columns***\n",
    "    \n",
    "* **id:** Unique ID for each home sold\n",
    "* **date:** Date of the home sale\n",
    "* **price:** Price of each home sold\n",
    "* **bedrooms:** Number of bedrooms\n",
    "* **bathrooms:** Number of bathrooms, where .5 accounts for a room with a toilet but no shower\n",
    "* **sqft_living:** Square footage of the apartments interior living space\n",
    "* **sqft_lot:** Square footage of the land space\n",
    "* **floors:** Number of floors\n",
    "* **waterfront:** - A dummy variable for whether the apartment was overlooking the waterfront or not\n",
    "* **view:** An index from 0 to 4 of how good the view of the property was\n",
    "* **condition:** - An index from 1 to 5 on the condition of the apartment,\n",
    "* **grade:** An index from 1 to 13, where 1-3 falls short of building construction and design, 7 has an average level of construction and design, and 11-13 have a high quality level of construction and design.\n",
    "* **sqft_above:** The square footage of the interior housing space that is above ground level\n",
    "* **sqft_basement:** The square footage of the interior housing space that is below ground level\n",
    "* **yr_built:** The year the house was initially built\n",
    "* **yr_renovated:** The year of the house’s last renovation\n",
    "* **zipcode:** What zipcode area the house is in\n",
    "* **lat:** Lattitude\n",
    "* **long:** Longitude\n",
    "* **sqft_living15:** The square footage of interior housing living space for the nearest 15 neighbors\n",
    "* **sqft_lot15:** The square footage of the land lots of the nearest 15 neighbors"
   ]
  },
  {
   "cell_type": "markdown",
   "metadata": {
    "papermill": {
     "duration": 0.036163,
     "end_time": "2020-09-26T15:46:01.921281",
     "exception": false,
     "start_time": "2020-09-26T15:46:01.885118",
     "status": "completed"
    },
    "tags": []
   },
   "source": [
    "### Imports"
   ]
  },
  {
   "cell_type": "code",
   "execution_count": 1,
   "metadata": {
    "execution": {
     "iopub.execute_input": "2020-09-26T15:46:02.008597Z",
     "iopub.status.busy": "2020-09-26T15:46:02.007564Z",
     "iopub.status.idle": "2020-09-26T15:46:09.341681Z",
     "shell.execute_reply": "2020-09-26T15:46:09.340815Z"
    },
    "papermill": {
     "duration": 7.384385,
     "end_time": "2020-09-26T15:46:09.341813",
     "exception": false,
     "start_time": "2020-09-26T15:46:01.957428",
     "status": "completed"
    },
    "tags": []
   },
   "outputs": [],
   "source": [
    "# data analysis and wrangling\n",
    "import pandas as pd\n",
    "import numpy as np\n",
    "import random as rnd\n",
    "\n",
    "# visualization\n",
    "import seaborn as sns\n",
    "import matplotlib.pyplot as plt\n",
    "%matplotlib inline\n",
    "\n",
    "# scaling and train test split\n",
    "from sklearn.model_selection import train_test_split\n",
    "from sklearn.preprocessing import MinMaxScaler\n",
    "\n",
    "# creating a model\n",
    "from tensorflow.keras.models import Sequential\n",
    "from tensorflow.keras.layers import Dense, Activation\n",
    "from tensorflow.keras.optimizers import Adam\n",
    "\n",
    "# evaluation on test data\n",
    "from sklearn.metrics import mean_squared_error,mean_absolute_error,explained_variance_score\n",
    "from sklearn.metrics import classification_report,confusion_matrix"
   ]
  },
  {
   "cell_type": "markdown",
   "metadata": {
    "papermill": {
     "duration": 0.035825,
     "end_time": "2020-09-26T15:46:09.414452",
     "exception": false,
     "start_time": "2020-09-26T15:46:09.378627",
     "status": "completed"
    },
    "tags": []
   },
   "source": [
    "### Acquire data\n",
    "The Python Pandas packages helps us work with our datasets. We start by acquiring the datasets into Pandas DataFrames."
   ]
  },
  {
   "cell_type": "code",
   "execution_count": 2,
   "metadata": {
    "execution": {
     "iopub.execute_input": "2020-09-26T15:46:09.497332Z",
     "iopub.status.busy": "2020-09-26T15:46:09.496516Z",
     "iopub.status.idle": "2020-09-26T15:46:09.602833Z",
     "shell.execute_reply": "2020-09-26T15:46:09.602071Z"
    },
    "papermill": {
     "duration": 0.152415,
     "end_time": "2020-09-26T15:46:09.602987",
     "exception": false,
     "start_time": "2020-09-26T15:46:09.450572",
     "status": "completed"
    },
    "tags": []
   },
   "outputs": [],
   "source": [
    "df = pd.read_csv('../input/housesalesprediction/kc_house_data.csv')"
   ]
  },
  {
   "cell_type": "markdown",
   "metadata": {
    "papermill": {
     "duration": 0.036246,
     "end_time": "2020-09-26T15:46:09.676054",
     "exception": false,
     "start_time": "2020-09-26T15:46:09.639808",
     "status": "completed"
    },
    "tags": []
   },
   "source": [
    "### Analyze by describing data\n",
    "Pandas also helps describe the datasets answering following questions early in our project.\n",
    "\n",
    "***Which features are available in the dataset?***"
   ]
  },
  {
   "cell_type": "code",
   "execution_count": 3,
   "metadata": {
    "_kg_hide-input": false,
    "_kg_hide-output": false,
    "execution": {
     "iopub.execute_input": "2020-09-26T15:46:09.757350Z",
     "iopub.status.busy": "2020-09-26T15:46:09.756237Z",
     "iopub.status.idle": "2020-09-26T15:46:09.760792Z",
     "shell.execute_reply": "2020-09-26T15:46:09.761685Z"
    },
    "papermill": {
     "duration": 0.04854,
     "end_time": "2020-09-26T15:46:09.761914",
     "exception": false,
     "start_time": "2020-09-26T15:46:09.713374",
     "status": "completed"
    },
    "tags": []
   },
   "outputs": [
    {
     "name": "stdout",
     "output_type": "stream",
     "text": [
      "['id' 'date' 'price' 'bedrooms' 'bathrooms' 'sqft_living' 'sqft_lot'\n",
      " 'floors' 'waterfront' 'view' 'condition' 'grade' 'sqft_above'\n",
      " 'sqft_basement' 'yr_built' 'yr_renovated' 'zipcode' 'lat' 'long'\n",
      " 'sqft_living15' 'sqft_lot15']\n"
     ]
    }
   ],
   "source": [
    "print(df.columns.values)"
   ]
  },
  {
   "cell_type": "markdown",
   "metadata": {
    "papermill": {
     "duration": 0.037442,
     "end_time": "2020-09-26T15:46:09.838519",
     "exception": false,
     "start_time": "2020-09-26T15:46:09.801077",
     "status": "completed"
    },
    "tags": []
   },
   "source": [
    "***Which features are categorical?***\n",
    "\n",
    "These values classify the samples into sets of similar samples. Within categorical features are the values nominal, ordinal, ratio, or interval based? Among other things this helps us select the appropriate plots for visualization.\n",
    "\n",
    "* Categorical: id, waterfront, zipcode.\n",
    "\n",
    "***Which features are numerical?***\n",
    "\n",
    "Which features are numerical? These values change from sample to sample. Within numerical features are the values discrete, continuous, or timeseries based? Among other things this helps us select the appropriate plots for visualization.\n",
    "\n",
    "* Continous: price, bathrooms, floors, lat, long.\n",
    "* Discrete: date, bedrooms, sqft_living, sqft_lot, view, condition, grade, sqft_above, sqft_basement, yr_built, yr_renovated, sqft_living15, sqft_lot15."
   ]
  },
  {
   "cell_type": "code",
   "execution_count": 4,
   "metadata": {
    "execution": {
     "iopub.execute_input": "2020-09-26T15:46:09.940368Z",
     "iopub.status.busy": "2020-09-26T15:46:09.934619Z",
     "iopub.status.idle": "2020-09-26T15:46:09.964281Z",
     "shell.execute_reply": "2020-09-26T15:46:09.963428Z"
    },
    "papermill": {
     "duration": 0.08832,
     "end_time": "2020-09-26T15:46:09.964430",
     "exception": false,
     "start_time": "2020-09-26T15:46:09.876110",
     "status": "completed"
    },
    "tags": []
   },
   "outputs": [
    {
     "data": {
      "text/html": [
       "<div>\n",
       "<style scoped>\n",
       "    .dataframe tbody tr th:only-of-type {\n",
       "        vertical-align: middle;\n",
       "    }\n",
       "\n",
       "    .dataframe tbody tr th {\n",
       "        vertical-align: top;\n",
       "    }\n",
       "\n",
       "    .dataframe thead th {\n",
       "        text-align: right;\n",
       "    }\n",
       "</style>\n",
       "<table border=\"1\" class=\"dataframe\">\n",
       "  <thead>\n",
       "    <tr style=\"text-align: right;\">\n",
       "      <th></th>\n",
       "      <th>id</th>\n",
       "      <th>date</th>\n",
       "      <th>price</th>\n",
       "      <th>bedrooms</th>\n",
       "      <th>bathrooms</th>\n",
       "      <th>sqft_living</th>\n",
       "      <th>sqft_lot</th>\n",
       "      <th>floors</th>\n",
       "      <th>waterfront</th>\n",
       "      <th>view</th>\n",
       "      <th>...</th>\n",
       "      <th>grade</th>\n",
       "      <th>sqft_above</th>\n",
       "      <th>sqft_basement</th>\n",
       "      <th>yr_built</th>\n",
       "      <th>yr_renovated</th>\n",
       "      <th>zipcode</th>\n",
       "      <th>lat</th>\n",
       "      <th>long</th>\n",
       "      <th>sqft_living15</th>\n",
       "      <th>sqft_lot15</th>\n",
       "    </tr>\n",
       "  </thead>\n",
       "  <tbody>\n",
       "    <tr>\n",
       "      <th>0</th>\n",
       "      <td>7129300520</td>\n",
       "      <td>20141013T000000</td>\n",
       "      <td>221900.0</td>\n",
       "      <td>3</td>\n",
       "      <td>1.00</td>\n",
       "      <td>1180</td>\n",
       "      <td>5650</td>\n",
       "      <td>1.0</td>\n",
       "      <td>0</td>\n",
       "      <td>0</td>\n",
       "      <td>...</td>\n",
       "      <td>7</td>\n",
       "      <td>1180</td>\n",
       "      <td>0</td>\n",
       "      <td>1955</td>\n",
       "      <td>0</td>\n",
       "      <td>98178</td>\n",
       "      <td>47.5112</td>\n",
       "      <td>-122.257</td>\n",
       "      <td>1340</td>\n",
       "      <td>5650</td>\n",
       "    </tr>\n",
       "    <tr>\n",
       "      <th>1</th>\n",
       "      <td>6414100192</td>\n",
       "      <td>20141209T000000</td>\n",
       "      <td>538000.0</td>\n",
       "      <td>3</td>\n",
       "      <td>2.25</td>\n",
       "      <td>2570</td>\n",
       "      <td>7242</td>\n",
       "      <td>2.0</td>\n",
       "      <td>0</td>\n",
       "      <td>0</td>\n",
       "      <td>...</td>\n",
       "      <td>7</td>\n",
       "      <td>2170</td>\n",
       "      <td>400</td>\n",
       "      <td>1951</td>\n",
       "      <td>1991</td>\n",
       "      <td>98125</td>\n",
       "      <td>47.7210</td>\n",
       "      <td>-122.319</td>\n",
       "      <td>1690</td>\n",
       "      <td>7639</td>\n",
       "    </tr>\n",
       "    <tr>\n",
       "      <th>2</th>\n",
       "      <td>5631500400</td>\n",
       "      <td>20150225T000000</td>\n",
       "      <td>180000.0</td>\n",
       "      <td>2</td>\n",
       "      <td>1.00</td>\n",
       "      <td>770</td>\n",
       "      <td>10000</td>\n",
       "      <td>1.0</td>\n",
       "      <td>0</td>\n",
       "      <td>0</td>\n",
       "      <td>...</td>\n",
       "      <td>6</td>\n",
       "      <td>770</td>\n",
       "      <td>0</td>\n",
       "      <td>1933</td>\n",
       "      <td>0</td>\n",
       "      <td>98028</td>\n",
       "      <td>47.7379</td>\n",
       "      <td>-122.233</td>\n",
       "      <td>2720</td>\n",
       "      <td>8062</td>\n",
       "    </tr>\n",
       "    <tr>\n",
       "      <th>3</th>\n",
       "      <td>2487200875</td>\n",
       "      <td>20141209T000000</td>\n",
       "      <td>604000.0</td>\n",
       "      <td>4</td>\n",
       "      <td>3.00</td>\n",
       "      <td>1960</td>\n",
       "      <td>5000</td>\n",
       "      <td>1.0</td>\n",
       "      <td>0</td>\n",
       "      <td>0</td>\n",
       "      <td>...</td>\n",
       "      <td>7</td>\n",
       "      <td>1050</td>\n",
       "      <td>910</td>\n",
       "      <td>1965</td>\n",
       "      <td>0</td>\n",
       "      <td>98136</td>\n",
       "      <td>47.5208</td>\n",
       "      <td>-122.393</td>\n",
       "      <td>1360</td>\n",
       "      <td>5000</td>\n",
       "    </tr>\n",
       "    <tr>\n",
       "      <th>4</th>\n",
       "      <td>1954400510</td>\n",
       "      <td>20150218T000000</td>\n",
       "      <td>510000.0</td>\n",
       "      <td>3</td>\n",
       "      <td>2.00</td>\n",
       "      <td>1680</td>\n",
       "      <td>8080</td>\n",
       "      <td>1.0</td>\n",
       "      <td>0</td>\n",
       "      <td>0</td>\n",
       "      <td>...</td>\n",
       "      <td>8</td>\n",
       "      <td>1680</td>\n",
       "      <td>0</td>\n",
       "      <td>1987</td>\n",
       "      <td>0</td>\n",
       "      <td>98074</td>\n",
       "      <td>47.6168</td>\n",
       "      <td>-122.045</td>\n",
       "      <td>1800</td>\n",
       "      <td>7503</td>\n",
       "    </tr>\n",
       "  </tbody>\n",
       "</table>\n",
       "<p>5 rows × 21 columns</p>\n",
       "</div>"
      ],
      "text/plain": [
       "           id             date     price  bedrooms  bathrooms  sqft_living  \\\n",
       "0  7129300520  20141013T000000  221900.0         3       1.00         1180   \n",
       "1  6414100192  20141209T000000  538000.0         3       2.25         2570   \n",
       "2  5631500400  20150225T000000  180000.0         2       1.00          770   \n",
       "3  2487200875  20141209T000000  604000.0         4       3.00         1960   \n",
       "4  1954400510  20150218T000000  510000.0         3       2.00         1680   \n",
       "\n",
       "   sqft_lot  floors  waterfront  view  ...  grade  sqft_above  sqft_basement  \\\n",
       "0      5650     1.0           0     0  ...      7        1180              0   \n",
       "1      7242     2.0           0     0  ...      7        2170            400   \n",
       "2     10000     1.0           0     0  ...      6         770              0   \n",
       "3      5000     1.0           0     0  ...      7        1050            910   \n",
       "4      8080     1.0           0     0  ...      8        1680              0   \n",
       "\n",
       "   yr_built  yr_renovated  zipcode      lat     long  sqft_living15  \\\n",
       "0      1955             0    98178  47.5112 -122.257           1340   \n",
       "1      1951          1991    98125  47.7210 -122.319           1690   \n",
       "2      1933             0    98028  47.7379 -122.233           2720   \n",
       "3      1965             0    98136  47.5208 -122.393           1360   \n",
       "4      1987             0    98074  47.6168 -122.045           1800   \n",
       "\n",
       "   sqft_lot15  \n",
       "0        5650  \n",
       "1        7639  \n",
       "2        8062  \n",
       "3        5000  \n",
       "4        7503  \n",
       "\n",
       "[5 rows x 21 columns]"
      ]
     },
     "execution_count": 4,
     "metadata": {},
     "output_type": "execute_result"
    }
   ],
   "source": [
    "# preview the data\n",
    "df.head()"
   ]
  },
  {
   "cell_type": "code",
   "execution_count": 5,
   "metadata": {
    "execution": {
     "iopub.execute_input": "2020-09-26T15:46:10.071717Z",
     "iopub.status.busy": "2020-09-26T15:46:10.068941Z",
     "iopub.status.idle": "2020-09-26T15:46:10.077309Z",
     "shell.execute_reply": "2020-09-26T15:46:10.076536Z"
    },
    "papermill": {
     "duration": 0.074347,
     "end_time": "2020-09-26T15:46:10.077446",
     "exception": false,
     "start_time": "2020-09-26T15:46:10.003099",
     "status": "completed"
    },
    "tags": []
   },
   "outputs": [
    {
     "data": {
      "text/html": [
       "<div>\n",
       "<style scoped>\n",
       "    .dataframe tbody tr th:only-of-type {\n",
       "        vertical-align: middle;\n",
       "    }\n",
       "\n",
       "    .dataframe tbody tr th {\n",
       "        vertical-align: top;\n",
       "    }\n",
       "\n",
       "    .dataframe thead th {\n",
       "        text-align: right;\n",
       "    }\n",
       "</style>\n",
       "<table border=\"1\" class=\"dataframe\">\n",
       "  <thead>\n",
       "    <tr style=\"text-align: right;\">\n",
       "      <th></th>\n",
       "      <th>id</th>\n",
       "      <th>date</th>\n",
       "      <th>price</th>\n",
       "      <th>bedrooms</th>\n",
       "      <th>bathrooms</th>\n",
       "      <th>sqft_living</th>\n",
       "      <th>sqft_lot</th>\n",
       "      <th>floors</th>\n",
       "      <th>waterfront</th>\n",
       "      <th>view</th>\n",
       "      <th>...</th>\n",
       "      <th>grade</th>\n",
       "      <th>sqft_above</th>\n",
       "      <th>sqft_basement</th>\n",
       "      <th>yr_built</th>\n",
       "      <th>yr_renovated</th>\n",
       "      <th>zipcode</th>\n",
       "      <th>lat</th>\n",
       "      <th>long</th>\n",
       "      <th>sqft_living15</th>\n",
       "      <th>sqft_lot15</th>\n",
       "    </tr>\n",
       "  </thead>\n",
       "  <tbody>\n",
       "    <tr>\n",
       "      <th>21608</th>\n",
       "      <td>263000018</td>\n",
       "      <td>20140521T000000</td>\n",
       "      <td>360000.0</td>\n",
       "      <td>3</td>\n",
       "      <td>2.50</td>\n",
       "      <td>1530</td>\n",
       "      <td>1131</td>\n",
       "      <td>3.0</td>\n",
       "      <td>0</td>\n",
       "      <td>0</td>\n",
       "      <td>...</td>\n",
       "      <td>8</td>\n",
       "      <td>1530</td>\n",
       "      <td>0</td>\n",
       "      <td>2009</td>\n",
       "      <td>0</td>\n",
       "      <td>98103</td>\n",
       "      <td>47.6993</td>\n",
       "      <td>-122.346</td>\n",
       "      <td>1530</td>\n",
       "      <td>1509</td>\n",
       "    </tr>\n",
       "    <tr>\n",
       "      <th>21609</th>\n",
       "      <td>6600060120</td>\n",
       "      <td>20150223T000000</td>\n",
       "      <td>400000.0</td>\n",
       "      <td>4</td>\n",
       "      <td>2.50</td>\n",
       "      <td>2310</td>\n",
       "      <td>5813</td>\n",
       "      <td>2.0</td>\n",
       "      <td>0</td>\n",
       "      <td>0</td>\n",
       "      <td>...</td>\n",
       "      <td>8</td>\n",
       "      <td>2310</td>\n",
       "      <td>0</td>\n",
       "      <td>2014</td>\n",
       "      <td>0</td>\n",
       "      <td>98146</td>\n",
       "      <td>47.5107</td>\n",
       "      <td>-122.362</td>\n",
       "      <td>1830</td>\n",
       "      <td>7200</td>\n",
       "    </tr>\n",
       "    <tr>\n",
       "      <th>21610</th>\n",
       "      <td>1523300141</td>\n",
       "      <td>20140623T000000</td>\n",
       "      <td>402101.0</td>\n",
       "      <td>2</td>\n",
       "      <td>0.75</td>\n",
       "      <td>1020</td>\n",
       "      <td>1350</td>\n",
       "      <td>2.0</td>\n",
       "      <td>0</td>\n",
       "      <td>0</td>\n",
       "      <td>...</td>\n",
       "      <td>7</td>\n",
       "      <td>1020</td>\n",
       "      <td>0</td>\n",
       "      <td>2009</td>\n",
       "      <td>0</td>\n",
       "      <td>98144</td>\n",
       "      <td>47.5944</td>\n",
       "      <td>-122.299</td>\n",
       "      <td>1020</td>\n",
       "      <td>2007</td>\n",
       "    </tr>\n",
       "    <tr>\n",
       "      <th>21611</th>\n",
       "      <td>291310100</td>\n",
       "      <td>20150116T000000</td>\n",
       "      <td>400000.0</td>\n",
       "      <td>3</td>\n",
       "      <td>2.50</td>\n",
       "      <td>1600</td>\n",
       "      <td>2388</td>\n",
       "      <td>2.0</td>\n",
       "      <td>0</td>\n",
       "      <td>0</td>\n",
       "      <td>...</td>\n",
       "      <td>8</td>\n",
       "      <td>1600</td>\n",
       "      <td>0</td>\n",
       "      <td>2004</td>\n",
       "      <td>0</td>\n",
       "      <td>98027</td>\n",
       "      <td>47.5345</td>\n",
       "      <td>-122.069</td>\n",
       "      <td>1410</td>\n",
       "      <td>1287</td>\n",
       "    </tr>\n",
       "    <tr>\n",
       "      <th>21612</th>\n",
       "      <td>1523300157</td>\n",
       "      <td>20141015T000000</td>\n",
       "      <td>325000.0</td>\n",
       "      <td>2</td>\n",
       "      <td>0.75</td>\n",
       "      <td>1020</td>\n",
       "      <td>1076</td>\n",
       "      <td>2.0</td>\n",
       "      <td>0</td>\n",
       "      <td>0</td>\n",
       "      <td>...</td>\n",
       "      <td>7</td>\n",
       "      <td>1020</td>\n",
       "      <td>0</td>\n",
       "      <td>2008</td>\n",
       "      <td>0</td>\n",
       "      <td>98144</td>\n",
       "      <td>47.5941</td>\n",
       "      <td>-122.299</td>\n",
       "      <td>1020</td>\n",
       "      <td>1357</td>\n",
       "    </tr>\n",
       "  </tbody>\n",
       "</table>\n",
       "<p>5 rows × 21 columns</p>\n",
       "</div>"
      ],
      "text/plain": [
       "               id             date     price  bedrooms  bathrooms  \\\n",
       "21608   263000018  20140521T000000  360000.0         3       2.50   \n",
       "21609  6600060120  20150223T000000  400000.0         4       2.50   \n",
       "21610  1523300141  20140623T000000  402101.0         2       0.75   \n",
       "21611   291310100  20150116T000000  400000.0         3       2.50   \n",
       "21612  1523300157  20141015T000000  325000.0         2       0.75   \n",
       "\n",
       "       sqft_living  sqft_lot  floors  waterfront  view  ...  grade  \\\n",
       "21608         1530      1131     3.0           0     0  ...      8   \n",
       "21609         2310      5813     2.0           0     0  ...      8   \n",
       "21610         1020      1350     2.0           0     0  ...      7   \n",
       "21611         1600      2388     2.0           0     0  ...      8   \n",
       "21612         1020      1076     2.0           0     0  ...      7   \n",
       "\n",
       "       sqft_above  sqft_basement  yr_built  yr_renovated  zipcode      lat  \\\n",
       "21608        1530              0      2009             0    98103  47.6993   \n",
       "21609        2310              0      2014             0    98146  47.5107   \n",
       "21610        1020              0      2009             0    98144  47.5944   \n",
       "21611        1600              0      2004             0    98027  47.5345   \n",
       "21612        1020              0      2008             0    98144  47.5941   \n",
       "\n",
       "          long  sqft_living15  sqft_lot15  \n",
       "21608 -122.346           1530        1509  \n",
       "21609 -122.362           1830        7200  \n",
       "21610 -122.299           1020        2007  \n",
       "21611 -122.069           1410        1287  \n",
       "21612 -122.299           1020        1357  \n",
       "\n",
       "[5 rows x 21 columns]"
      ]
     },
     "execution_count": 5,
     "metadata": {},
     "output_type": "execute_result"
    }
   ],
   "source": [
    "# preview the data\n",
    "df.tail()"
   ]
  },
  {
   "cell_type": "markdown",
   "metadata": {
    "papermill": {
     "duration": 0.038983,
     "end_time": "2020-09-26T15:46:10.156247",
     "exception": false,
     "start_time": "2020-09-26T15:46:10.117264",
     "status": "completed"
    },
    "tags": []
   },
   "source": [
    "***Which features contain blank, null or empty values?***\n",
    "\n",
    "We can check for missing values with pandas isnull(). This indicates whether values are missing or not. Then we can sum all the values to check every column. "
   ]
  },
  {
   "cell_type": "code",
   "execution_count": 6,
   "metadata": {
    "execution": {
     "iopub.execute_input": "2020-09-26T15:46:10.244256Z",
     "iopub.status.busy": "2020-09-26T15:46:10.240514Z",
     "iopub.status.idle": "2020-09-26T15:46:10.252553Z",
     "shell.execute_reply": "2020-09-26T15:46:10.253090Z"
    },
    "papermill": {
     "duration": 0.057466,
     "end_time": "2020-09-26T15:46:10.253298",
     "exception": false,
     "start_time": "2020-09-26T15:46:10.195832",
     "status": "completed"
    },
    "tags": []
   },
   "outputs": [
    {
     "data": {
      "text/plain": [
       "id               0\n",
       "date             0\n",
       "price            0\n",
       "bedrooms         0\n",
       "bathrooms        0\n",
       "sqft_living      0\n",
       "sqft_lot         0\n",
       "floors           0\n",
       "waterfront       0\n",
       "view             0\n",
       "condition        0\n",
       "grade            0\n",
       "sqft_above       0\n",
       "sqft_basement    0\n",
       "yr_built         0\n",
       "yr_renovated     0\n",
       "zipcode          0\n",
       "lat              0\n",
       "long             0\n",
       "sqft_living15    0\n",
       "sqft_lot15       0\n",
       "dtype: int64"
      ]
     },
     "execution_count": 6,
     "metadata": {},
     "output_type": "execute_result"
    }
   ],
   "source": [
    "# No missing values\n",
    "df.isnull().sum()"
   ]
  },
  {
   "cell_type": "markdown",
   "metadata": {
    "papermill": {
     "duration": 0.039809,
     "end_time": "2020-09-26T15:46:10.332812",
     "exception": false,
     "start_time": "2020-09-26T15:46:10.293003",
     "status": "completed"
    },
    "tags": []
   },
   "source": [
    "***What are the data types for various features?***\n",
    "\n",
    "Five features are floats, fifteen are integers and one is an object."
   ]
  },
  {
   "cell_type": "code",
   "execution_count": 7,
   "metadata": {
    "execution": {
     "iopub.execute_input": "2020-09-26T15:46:10.419717Z",
     "iopub.status.busy": "2020-09-26T15:46:10.418954Z",
     "iopub.status.idle": "2020-09-26T15:46:10.441822Z",
     "shell.execute_reply": "2020-09-26T15:46:10.440994Z"
    },
    "papermill": {
     "duration": 0.068873,
     "end_time": "2020-09-26T15:46:10.441959",
     "exception": false,
     "start_time": "2020-09-26T15:46:10.373086",
     "status": "completed"
    },
    "tags": []
   },
   "outputs": [
    {
     "name": "stdout",
     "output_type": "stream",
     "text": [
      "<class 'pandas.core.frame.DataFrame'>\n",
      "RangeIndex: 21613 entries, 0 to 21612\n",
      "Data columns (total 21 columns):\n",
      " #   Column         Non-Null Count  Dtype  \n",
      "---  ------         --------------  -----  \n",
      " 0   id             21613 non-null  int64  \n",
      " 1   date           21613 non-null  object \n",
      " 2   price          21613 non-null  float64\n",
      " 3   bedrooms       21613 non-null  int64  \n",
      " 4   bathrooms      21613 non-null  float64\n",
      " 5   sqft_living    21613 non-null  int64  \n",
      " 6   sqft_lot       21613 non-null  int64  \n",
      " 7   floors         21613 non-null  float64\n",
      " 8   waterfront     21613 non-null  int64  \n",
      " 9   view           21613 non-null  int64  \n",
      " 10  condition      21613 non-null  int64  \n",
      " 11  grade          21613 non-null  int64  \n",
      " 12  sqft_above     21613 non-null  int64  \n",
      " 13  sqft_basement  21613 non-null  int64  \n",
      " 14  yr_built       21613 non-null  int64  \n",
      " 15  yr_renovated   21613 non-null  int64  \n",
      " 16  zipcode        21613 non-null  int64  \n",
      " 17  lat            21613 non-null  float64\n",
      " 18  long           21613 non-null  float64\n",
      " 19  sqft_living15  21613 non-null  int64  \n",
      " 20  sqft_lot15     21613 non-null  int64  \n",
      "dtypes: float64(5), int64(15), object(1)\n",
      "memory usage: 3.5+ MB\n"
     ]
    }
   ],
   "source": [
    "df.info()"
   ]
  },
  {
   "cell_type": "markdown",
   "metadata": {
    "papermill": {
     "duration": 0.039846,
     "end_time": "2020-09-26T15:46:10.522500",
     "exception": false,
     "start_time": "2020-09-26T15:46:10.482654",
     "status": "completed"
    },
    "tags": []
   },
   "source": [
    "***What is the distribution of numerical feature values across the samples?***"
   ]
  },
  {
   "cell_type": "code",
   "execution_count": 8,
   "metadata": {
    "execution": {
     "iopub.execute_input": "2020-09-26T15:46:10.613354Z",
     "iopub.status.busy": "2020-09-26T15:46:10.612384Z",
     "iopub.status.idle": "2020-09-26T15:46:10.694905Z",
     "shell.execute_reply": "2020-09-26T15:46:10.695546Z"
    },
    "papermill": {
     "duration": 0.133189,
     "end_time": "2020-09-26T15:46:10.695745",
     "exception": false,
     "start_time": "2020-09-26T15:46:10.562556",
     "status": "completed"
    },
    "tags": []
   },
   "outputs": [
    {
     "data": {
      "text/html": [
       "<div>\n",
       "<style scoped>\n",
       "    .dataframe tbody tr th:only-of-type {\n",
       "        vertical-align: middle;\n",
       "    }\n",
       "\n",
       "    .dataframe tbody tr th {\n",
       "        vertical-align: top;\n",
       "    }\n",
       "\n",
       "    .dataframe thead th {\n",
       "        text-align: right;\n",
       "    }\n",
       "</style>\n",
       "<table border=\"1\" class=\"dataframe\">\n",
       "  <thead>\n",
       "    <tr style=\"text-align: right;\">\n",
       "      <th></th>\n",
       "      <th>count</th>\n",
       "      <th>mean</th>\n",
       "      <th>std</th>\n",
       "      <th>min</th>\n",
       "      <th>25%</th>\n",
       "      <th>50%</th>\n",
       "      <th>75%</th>\n",
       "      <th>max</th>\n",
       "    </tr>\n",
       "  </thead>\n",
       "  <tbody>\n",
       "    <tr>\n",
       "      <th>id</th>\n",
       "      <td>21613.0</td>\n",
       "      <td>4.580302e+09</td>\n",
       "      <td>2.876566e+09</td>\n",
       "      <td>1.000102e+06</td>\n",
       "      <td>2.123049e+09</td>\n",
       "      <td>3.904930e+09</td>\n",
       "      <td>7.308900e+09</td>\n",
       "      <td>9.900000e+09</td>\n",
       "    </tr>\n",
       "    <tr>\n",
       "      <th>price</th>\n",
       "      <td>21613.0</td>\n",
       "      <td>5.400881e+05</td>\n",
       "      <td>3.671272e+05</td>\n",
       "      <td>7.500000e+04</td>\n",
       "      <td>3.219500e+05</td>\n",
       "      <td>4.500000e+05</td>\n",
       "      <td>6.450000e+05</td>\n",
       "      <td>7.700000e+06</td>\n",
       "    </tr>\n",
       "    <tr>\n",
       "      <th>bedrooms</th>\n",
       "      <td>21613.0</td>\n",
       "      <td>3.370842e+00</td>\n",
       "      <td>9.300618e-01</td>\n",
       "      <td>0.000000e+00</td>\n",
       "      <td>3.000000e+00</td>\n",
       "      <td>3.000000e+00</td>\n",
       "      <td>4.000000e+00</td>\n",
       "      <td>3.300000e+01</td>\n",
       "    </tr>\n",
       "    <tr>\n",
       "      <th>bathrooms</th>\n",
       "      <td>21613.0</td>\n",
       "      <td>2.114757e+00</td>\n",
       "      <td>7.701632e-01</td>\n",
       "      <td>0.000000e+00</td>\n",
       "      <td>1.750000e+00</td>\n",
       "      <td>2.250000e+00</td>\n",
       "      <td>2.500000e+00</td>\n",
       "      <td>8.000000e+00</td>\n",
       "    </tr>\n",
       "    <tr>\n",
       "      <th>sqft_living</th>\n",
       "      <td>21613.0</td>\n",
       "      <td>2.079900e+03</td>\n",
       "      <td>9.184409e+02</td>\n",
       "      <td>2.900000e+02</td>\n",
       "      <td>1.427000e+03</td>\n",
       "      <td>1.910000e+03</td>\n",
       "      <td>2.550000e+03</td>\n",
       "      <td>1.354000e+04</td>\n",
       "    </tr>\n",
       "    <tr>\n",
       "      <th>sqft_lot</th>\n",
       "      <td>21613.0</td>\n",
       "      <td>1.510697e+04</td>\n",
       "      <td>4.142051e+04</td>\n",
       "      <td>5.200000e+02</td>\n",
       "      <td>5.040000e+03</td>\n",
       "      <td>7.618000e+03</td>\n",
       "      <td>1.068800e+04</td>\n",
       "      <td>1.651359e+06</td>\n",
       "    </tr>\n",
       "    <tr>\n",
       "      <th>floors</th>\n",
       "      <td>21613.0</td>\n",
       "      <td>1.494309e+00</td>\n",
       "      <td>5.399889e-01</td>\n",
       "      <td>1.000000e+00</td>\n",
       "      <td>1.000000e+00</td>\n",
       "      <td>1.500000e+00</td>\n",
       "      <td>2.000000e+00</td>\n",
       "      <td>3.500000e+00</td>\n",
       "    </tr>\n",
       "    <tr>\n",
       "      <th>waterfront</th>\n",
       "      <td>21613.0</td>\n",
       "      <td>7.541757e-03</td>\n",
       "      <td>8.651720e-02</td>\n",
       "      <td>0.000000e+00</td>\n",
       "      <td>0.000000e+00</td>\n",
       "      <td>0.000000e+00</td>\n",
       "      <td>0.000000e+00</td>\n",
       "      <td>1.000000e+00</td>\n",
       "    </tr>\n",
       "    <tr>\n",
       "      <th>view</th>\n",
       "      <td>21613.0</td>\n",
       "      <td>2.343034e-01</td>\n",
       "      <td>7.663176e-01</td>\n",
       "      <td>0.000000e+00</td>\n",
       "      <td>0.000000e+00</td>\n",
       "      <td>0.000000e+00</td>\n",
       "      <td>0.000000e+00</td>\n",
       "      <td>4.000000e+00</td>\n",
       "    </tr>\n",
       "    <tr>\n",
       "      <th>condition</th>\n",
       "      <td>21613.0</td>\n",
       "      <td>3.409430e+00</td>\n",
       "      <td>6.507430e-01</td>\n",
       "      <td>1.000000e+00</td>\n",
       "      <td>3.000000e+00</td>\n",
       "      <td>3.000000e+00</td>\n",
       "      <td>4.000000e+00</td>\n",
       "      <td>5.000000e+00</td>\n",
       "    </tr>\n",
       "    <tr>\n",
       "      <th>grade</th>\n",
       "      <td>21613.0</td>\n",
       "      <td>7.656873e+00</td>\n",
       "      <td>1.175459e+00</td>\n",
       "      <td>1.000000e+00</td>\n",
       "      <td>7.000000e+00</td>\n",
       "      <td>7.000000e+00</td>\n",
       "      <td>8.000000e+00</td>\n",
       "      <td>1.300000e+01</td>\n",
       "    </tr>\n",
       "    <tr>\n",
       "      <th>sqft_above</th>\n",
       "      <td>21613.0</td>\n",
       "      <td>1.788391e+03</td>\n",
       "      <td>8.280910e+02</td>\n",
       "      <td>2.900000e+02</td>\n",
       "      <td>1.190000e+03</td>\n",
       "      <td>1.560000e+03</td>\n",
       "      <td>2.210000e+03</td>\n",
       "      <td>9.410000e+03</td>\n",
       "    </tr>\n",
       "    <tr>\n",
       "      <th>sqft_basement</th>\n",
       "      <td>21613.0</td>\n",
       "      <td>2.915090e+02</td>\n",
       "      <td>4.425750e+02</td>\n",
       "      <td>0.000000e+00</td>\n",
       "      <td>0.000000e+00</td>\n",
       "      <td>0.000000e+00</td>\n",
       "      <td>5.600000e+02</td>\n",
       "      <td>4.820000e+03</td>\n",
       "    </tr>\n",
       "    <tr>\n",
       "      <th>yr_built</th>\n",
       "      <td>21613.0</td>\n",
       "      <td>1.971005e+03</td>\n",
       "      <td>2.937341e+01</td>\n",
       "      <td>1.900000e+03</td>\n",
       "      <td>1.951000e+03</td>\n",
       "      <td>1.975000e+03</td>\n",
       "      <td>1.997000e+03</td>\n",
       "      <td>2.015000e+03</td>\n",
       "    </tr>\n",
       "    <tr>\n",
       "      <th>yr_renovated</th>\n",
       "      <td>21613.0</td>\n",
       "      <td>8.440226e+01</td>\n",
       "      <td>4.016792e+02</td>\n",
       "      <td>0.000000e+00</td>\n",
       "      <td>0.000000e+00</td>\n",
       "      <td>0.000000e+00</td>\n",
       "      <td>0.000000e+00</td>\n",
       "      <td>2.015000e+03</td>\n",
       "    </tr>\n",
       "    <tr>\n",
       "      <th>zipcode</th>\n",
       "      <td>21613.0</td>\n",
       "      <td>9.807794e+04</td>\n",
       "      <td>5.350503e+01</td>\n",
       "      <td>9.800100e+04</td>\n",
       "      <td>9.803300e+04</td>\n",
       "      <td>9.806500e+04</td>\n",
       "      <td>9.811800e+04</td>\n",
       "      <td>9.819900e+04</td>\n",
       "    </tr>\n",
       "    <tr>\n",
       "      <th>lat</th>\n",
       "      <td>21613.0</td>\n",
       "      <td>4.756005e+01</td>\n",
       "      <td>1.385637e-01</td>\n",
       "      <td>4.715590e+01</td>\n",
       "      <td>4.747100e+01</td>\n",
       "      <td>4.757180e+01</td>\n",
       "      <td>4.767800e+01</td>\n",
       "      <td>4.777760e+01</td>\n",
       "    </tr>\n",
       "    <tr>\n",
       "      <th>long</th>\n",
       "      <td>21613.0</td>\n",
       "      <td>-1.222139e+02</td>\n",
       "      <td>1.408283e-01</td>\n",
       "      <td>-1.225190e+02</td>\n",
       "      <td>-1.223280e+02</td>\n",
       "      <td>-1.222300e+02</td>\n",
       "      <td>-1.221250e+02</td>\n",
       "      <td>-1.213150e+02</td>\n",
       "    </tr>\n",
       "    <tr>\n",
       "      <th>sqft_living15</th>\n",
       "      <td>21613.0</td>\n",
       "      <td>1.986552e+03</td>\n",
       "      <td>6.853913e+02</td>\n",
       "      <td>3.990000e+02</td>\n",
       "      <td>1.490000e+03</td>\n",
       "      <td>1.840000e+03</td>\n",
       "      <td>2.360000e+03</td>\n",
       "      <td>6.210000e+03</td>\n",
       "    </tr>\n",
       "    <tr>\n",
       "      <th>sqft_lot15</th>\n",
       "      <td>21613.0</td>\n",
       "      <td>1.276846e+04</td>\n",
       "      <td>2.730418e+04</td>\n",
       "      <td>6.510000e+02</td>\n",
       "      <td>5.100000e+03</td>\n",
       "      <td>7.620000e+03</td>\n",
       "      <td>1.008300e+04</td>\n",
       "      <td>8.712000e+05</td>\n",
       "    </tr>\n",
       "  </tbody>\n",
       "</table>\n",
       "</div>"
      ],
      "text/plain": [
       "                 count          mean           std           min  \\\n",
       "id             21613.0  4.580302e+09  2.876566e+09  1.000102e+06   \n",
       "price          21613.0  5.400881e+05  3.671272e+05  7.500000e+04   \n",
       "bedrooms       21613.0  3.370842e+00  9.300618e-01  0.000000e+00   \n",
       "bathrooms      21613.0  2.114757e+00  7.701632e-01  0.000000e+00   \n",
       "sqft_living    21613.0  2.079900e+03  9.184409e+02  2.900000e+02   \n",
       "sqft_lot       21613.0  1.510697e+04  4.142051e+04  5.200000e+02   \n",
       "floors         21613.0  1.494309e+00  5.399889e-01  1.000000e+00   \n",
       "waterfront     21613.0  7.541757e-03  8.651720e-02  0.000000e+00   \n",
       "view           21613.0  2.343034e-01  7.663176e-01  0.000000e+00   \n",
       "condition      21613.0  3.409430e+00  6.507430e-01  1.000000e+00   \n",
       "grade          21613.0  7.656873e+00  1.175459e+00  1.000000e+00   \n",
       "sqft_above     21613.0  1.788391e+03  8.280910e+02  2.900000e+02   \n",
       "sqft_basement  21613.0  2.915090e+02  4.425750e+02  0.000000e+00   \n",
       "yr_built       21613.0  1.971005e+03  2.937341e+01  1.900000e+03   \n",
       "yr_renovated   21613.0  8.440226e+01  4.016792e+02  0.000000e+00   \n",
       "zipcode        21613.0  9.807794e+04  5.350503e+01  9.800100e+04   \n",
       "lat            21613.0  4.756005e+01  1.385637e-01  4.715590e+01   \n",
       "long           21613.0 -1.222139e+02  1.408283e-01 -1.225190e+02   \n",
       "sqft_living15  21613.0  1.986552e+03  6.853913e+02  3.990000e+02   \n",
       "sqft_lot15     21613.0  1.276846e+04  2.730418e+04  6.510000e+02   \n",
       "\n",
       "                        25%           50%           75%           max  \n",
       "id             2.123049e+09  3.904930e+09  7.308900e+09  9.900000e+09  \n",
       "price          3.219500e+05  4.500000e+05  6.450000e+05  7.700000e+06  \n",
       "bedrooms       3.000000e+00  3.000000e+00  4.000000e+00  3.300000e+01  \n",
       "bathrooms      1.750000e+00  2.250000e+00  2.500000e+00  8.000000e+00  \n",
       "sqft_living    1.427000e+03  1.910000e+03  2.550000e+03  1.354000e+04  \n",
       "sqft_lot       5.040000e+03  7.618000e+03  1.068800e+04  1.651359e+06  \n",
       "floors         1.000000e+00  1.500000e+00  2.000000e+00  3.500000e+00  \n",
       "waterfront     0.000000e+00  0.000000e+00  0.000000e+00  1.000000e+00  \n",
       "view           0.000000e+00  0.000000e+00  0.000000e+00  4.000000e+00  \n",
       "condition      3.000000e+00  3.000000e+00  4.000000e+00  5.000000e+00  \n",
       "grade          7.000000e+00  7.000000e+00  8.000000e+00  1.300000e+01  \n",
       "sqft_above     1.190000e+03  1.560000e+03  2.210000e+03  9.410000e+03  \n",
       "sqft_basement  0.000000e+00  0.000000e+00  5.600000e+02  4.820000e+03  \n",
       "yr_built       1.951000e+03  1.975000e+03  1.997000e+03  2.015000e+03  \n",
       "yr_renovated   0.000000e+00  0.000000e+00  0.000000e+00  2.015000e+03  \n",
       "zipcode        9.803300e+04  9.806500e+04  9.811800e+04  9.819900e+04  \n",
       "lat            4.747100e+01  4.757180e+01  4.767800e+01  4.777760e+01  \n",
       "long          -1.223280e+02 -1.222300e+02 -1.221250e+02 -1.213150e+02  \n",
       "sqft_living15  1.490000e+03  1.840000e+03  2.360000e+03  6.210000e+03  \n",
       "sqft_lot15     5.100000e+03  7.620000e+03  1.008300e+04  8.712000e+05  "
      ]
     },
     "execution_count": 8,
     "metadata": {},
     "output_type": "execute_result"
    }
   ],
   "source": [
    "df.describe().transpose()"
   ]
  },
  {
   "cell_type": "markdown",
   "metadata": {
    "papermill": {
     "duration": 0.041371,
     "end_time": "2020-09-26T15:46:10.779921",
     "exception": false,
     "start_time": "2020-09-26T15:46:10.738550",
     "status": "completed"
    },
    "tags": []
   },
   "source": [
    "### Assumtions based on data analysis\n",
    "\n",
    "We arrive at following assumptions based on data analysis done so far. We may validate these assumptions further before taking appropriate actions.\n",
    "\n",
    "### Correlating\n",
    "\n",
    "We want to know how well does each feature correlate with Price. We want to do this early in our project and match these quick correlations with modelled correlations later in the project.\n",
    "\n",
    "### Completing\n",
    "\n",
    "Since there are no missing values we do not need to complete any values. \n",
    "\n",
    "### Correcting\n",
    "\n",
    "Id feature may be dropped from our analysis since it does not add value.\n",
    "Date feature may be dropped since we are going to do feature engineering and make a year and month column.\n",
    "Zipcode feature is a special case, we could use it, but since we do not know exactly the zones of King County we are just going to drop it. \n",
    "\n",
    "### Creating\n",
    "\n",
    "We may want to create a new feature called Year based on Date to analyze the price change throughout the years.\n",
    "We may want to create a new feature called Month based on Date to analyze the price change throughout the months."
   ]
  },
  {
   "cell_type": "markdown",
   "metadata": {
    "papermill": {
     "duration": 0.041502,
     "end_time": "2020-09-26T15:46:10.863225",
     "exception": false,
     "start_time": "2020-09-26T15:46:10.821723",
     "status": "completed"
    },
    "tags": []
   },
   "source": [
    "<a id=\"ch3\"></a>\n",
    "## Exploratory Data Analysis\n",
    "<hr/>\n",
    "\n",
    "### Analyze by visualizing data\n",
    "Now we can continue confirming some of our assumptions using visualizations for analyzing the data."
   ]
  },
  {
   "cell_type": "markdown",
   "metadata": {
    "papermill": {
     "duration": 0.041312,
     "end_time": "2020-09-26T15:46:10.946550",
     "exception": false,
     "start_time": "2020-09-26T15:46:10.905238",
     "status": "completed"
    },
    "tags": []
   },
   "source": [
    "### Pearson correlation matrix\n",
    "We use the Pearson correlation coefficient to examine the strength and direction of the linear relationship between two continuous variables.\n",
    "\n",
    "The correlation coefficient can range in value from −1 to +1. The larger the absolute value of the coefficient, the stronger the relationship between the variables. For the Pearson correlation, an absolute value of 1 indicates a perfect linear relationship. A correlation close to 0 indicates no linear relationship between the variables. \n",
    "\n",
    "The sign of the coefficient indicates the direction of the relationship. If both variables tend to increase or decrease together, the coefficient is positive, and the line that represents the correlation slopes upward. If one variable tends to increase as the other decreases, the coefficient is negative, and the line that represents the correlation slopes downward."
   ]
  },
  {
   "cell_type": "code",
   "execution_count": 9,
   "metadata": {
    "_kg_hide-input": true,
    "execution": {
     "iopub.execute_input": "2020-09-26T15:46:11.040938Z",
     "iopub.status.busy": "2020-09-26T15:46:11.040128Z",
     "iopub.status.idle": "2020-09-26T15:46:12.927670Z",
     "shell.execute_reply": "2020-09-26T15:46:12.928283Z"
    },
    "papermill": {
     "duration": 1.940115,
     "end_time": "2020-09-26T15:46:12.928462",
     "exception": false,
     "start_time": "2020-09-26T15:46:10.988347",
     "status": "completed"
    },
    "tags": []
   },
   "outputs": [
    {
     "data": {
      "text/plain": [
       "<matplotlib.axes._subplots.AxesSubplot at 0x7ff08e656790>"
      ]
     },
     "execution_count": 9,
     "metadata": {},
     "output_type": "execute_result"
    },
    {
     "data": {
      "image/png": "[encoded data removed]",
      "text/plain": [
       "<Figure size 936x936 with 2 Axes>"
      ]
     },
     "metadata": {},
     "output_type": "display_data"
    }
   ],
   "source": [
    "sns.set(style=\"whitegrid\", font_scale=1)\n",
    "\n",
    "plt.figure(figsize=(13,13))\n",
    "plt.title('Pearson Correlation Matrix',fontsize=25)\n",
    "sns.heatmap(df.corr(),linewidths=0.25,vmax=0.7,square=True,cmap=\"GnBu\",linecolor='w',\n",
    "            annot=True, annot_kws={\"size\":7}, cbar_kws={\"shrink\": .7})"
   ]
  },
  {
   "cell_type": "markdown",
   "metadata": {
    "papermill": {
     "duration": 0.046654,
     "end_time": "2020-09-26T15:46:13.022334",
     "exception": false,
     "start_time": "2020-09-26T15:46:12.975680",
     "status": "completed"
    },
    "tags": []
   },
   "source": [
    "### Price correlation\n",
    "* This allow us to explore labels that are highly correlated to the price.\n",
    "* sqft_living looks like a highly correlated label to the price, as well as grade, sqft_above, sqft_living15 and bathrooms.\n",
    "\n",
    "***Which features are more correlated to the price?***"
   ]
  },
  {
   "cell_type": "code",
   "execution_count": 10,
   "metadata": {
    "_kg_hide-input": true,
    "execution": {
     "iopub.execute_input": "2020-09-26T15:46:13.124889Z",
     "iopub.status.busy": "2020-09-26T15:46:13.124071Z",
     "iopub.status.idle": "2020-09-26T15:46:13.151840Z",
     "shell.execute_reply": "2020-09-26T15:46:13.152681Z"
    },
    "papermill": {
     "duration": 0.083878,
     "end_time": "2020-09-26T15:46:13.152943",
     "exception": false,
     "start_time": "2020-09-26T15:46:13.069065",
     "status": "completed"
    },
    "tags": []
   },
   "outputs": [
    {
     "name": "stdout",
     "output_type": "stream",
     "text": [
      "price            1.000000\n",
      "sqft_living      0.702035\n",
      "grade            0.667434\n",
      "sqft_above       0.605567\n",
      "sqft_living15    0.585379\n",
      "bathrooms        0.525138\n",
      "view             0.397293\n",
      "sqft_basement    0.323816\n",
      "bedrooms         0.308350\n",
      "lat              0.307003\n",
      "waterfront       0.266369\n",
      "floors           0.256794\n",
      "yr_renovated     0.126434\n",
      "sqft_lot         0.089661\n",
      "sqft_lot15       0.082447\n",
      "yr_built         0.054012\n",
      "condition        0.036362\n",
      "long             0.021626\n",
      "id              -0.016762\n",
      "zipcode         -0.053203\n",
      "Name: price, dtype: float64\n"
     ]
    }
   ],
   "source": [
    "price_corr = df.corr()['price'].sort_values(ascending=False)\n",
    "print(price_corr)"
   ]
  },
  {
   "cell_type": "markdown",
   "metadata": {
    "papermill": {
     "duration": 0.047975,
     "end_time": "2020-09-26T15:46:13.250085",
     "exception": false,
     "start_time": "2020-09-26T15:46:13.202110",
     "status": "completed"
    },
    "tags": []
   },
   "source": [
    "### Price feature \n",
    "* Most of the house prices are between \\\\$0 and \\\\$1,500,000.\n",
    "* The average house price is \\\\$540,000.\n",
    "* Keep in mind that it may be a good idea to drop extreme values. For instance, we could focus on house from \\\\$0 to \\\\$3,000,000 and drop the other ones.\n",
    "* It seems that there is a positive linear relationship between the price and sqft_living.\n",
    "* An increase in living space generally corresponds to an increase in house price."
   ]
  },
  {
   "cell_type": "code",
   "execution_count": 11,
   "metadata": {
    "_kg_hide-input": true,
    "execution": {
     "iopub.execute_input": "2020-09-26T15:46:13.362099Z",
     "iopub.status.busy": "2020-09-26T15:46:13.354488Z",
     "iopub.status.idle": "2020-09-26T15:46:14.247641Z",
     "shell.execute_reply": "2020-09-26T15:46:14.248269Z"
    },
    "papermill": {
     "duration": 0.950588,
     "end_time": "2020-09-26T15:46:14.248451",
     "exception": false,
     "start_time": "2020-09-26T15:46:13.297863",
     "status": "completed"
    },
    "tags": []
   },
   "outputs": [
    {
     "data": {
      "image/png": "[encoded data removed]",
      "text/plain": [
       "<Figure size 1080x360 with 2 Axes>"
      ]
     },
     "metadata": {},
     "output_type": "display_data"
    }
   ],
   "source": [
    "f, axes = plt.subplots(1, 2,figsize=(15,5))\n",
    "sns.distplot(df['price'], ax=axes[0])\n",
    "sns.scatterplot(x='price',y='sqft_living', data=df, ax=axes[1])\n",
    "sns.despine(bottom=True, left=True)\n",
    "axes[0].set(xlabel='Price in millions [USD]', ylabel='', title='Price Distribuition')\n",
    "axes[1].set(xlabel='Price', ylabel='Sqft Living', title='Price vs Sqft Living')\n",
    "axes[1].yaxis.set_label_position(\"right\")\n",
    "axes[1].yaxis.tick_right()"
   ]
  },
  {
   "cell_type": "markdown",
   "metadata": {
    "papermill": {
     "duration": 0.048999,
     "end_time": "2020-09-26T15:46:14.347379",
     "exception": false,
     "start_time": "2020-09-26T15:46:14.298380",
     "status": "completed"
    },
    "tags": []
   },
   "source": [
    "### Bedrooms and floors box plots\n",
    "Box plot is a method for graphically depicting groups of numerical data through their quartiles. Box plots may also have lines extending from the boxes (whiskers) indicating variability outside the upper and lower quartiles, hence the terms box-and-whisker plot. Outliers may be plotted as individual points. The spacings between the different parts of the box indicate the degree of dispersion (spread). \n",
    "\n",
    "* We can see outliers plotted as individual points; this probably are the more expensive houses.\n",
    "* We can see that the price tends to go up when the house has more bedrooms. "
   ]
  },
  {
   "cell_type": "code",
   "execution_count": 12,
   "metadata": {
    "_kg_hide-input": true,
    "execution": {
     "iopub.execute_input": "2020-09-26T15:46:14.458906Z",
     "iopub.status.busy": "2020-09-26T15:46:14.457829Z",
     "iopub.status.idle": "2020-09-26T15:46:15.175103Z",
     "shell.execute_reply": "2020-09-26T15:46:15.175687Z"
    },
    "papermill": {
     "duration": 0.778637,
     "end_time": "2020-09-26T15:46:15.175875",
     "exception": false,
     "start_time": "2020-09-26T15:46:14.397238",
     "status": "completed"
    },
    "tags": []
   },
   "outputs": [
    {
     "data": {
      "text/plain": [
       "[Text(0, 0.5, 'Price'),\n",
       " Text(0.5, 0, 'Floors'),\n",
       " Text(0.5, 1.0, 'Floors vs Price Box Plot')]"
      ]
     },
     "execution_count": 12,
     "metadata": {},
     "output_type": "execute_result"
    },
    {
     "data": {
      "image/png": "[encoded data removed]",
      "text/plain": [
       "<Figure size 1080x360 with 2 Axes>"
      ]
     },
     "metadata": {},
     "output_type": "display_data"
    }
   ],
   "source": [
    "sns.set(style=\"whitegrid\", font_scale=1)\n",
    "\n",
    "f, axes = plt.subplots(1, 2,figsize=(15,5))\n",
    "sns.boxplot(x=df['bedrooms'],y=df['price'], ax=axes[0])\n",
    "sns.boxplot(x=df['floors'],y=df['price'], ax=axes[1])\n",
    "sns.despine(bottom=True, left=True)\n",
    "axes[0].set(xlabel='Bedrooms', ylabel='Price', title='Bedrooms vs Price Box Plot')\n",
    "axes[1].set(xlabel='Floors', ylabel='Price', title='Floors vs Price Box Plot')"
   ]
  },
  {
   "cell_type": "markdown",
   "metadata": {
    "papermill": {
     "duration": 0.05133,
     "end_time": "2020-09-26T15:46:15.279170",
     "exception": false,
     "start_time": "2020-09-26T15:46:15.227840",
     "status": "completed"
    },
    "tags": []
   },
   "source": [
    "### Waterfront, view and grade box plots\n",
    "* Waterfront houses tends to have a better price value.\n",
    "* The price of waterfront houses tends to be more disperse and the price of houses without waterfront tend to be more concentrated.\n",
    "* Grade and waterfront effect price. View seem to effect less but it also has an effect on price."
   ]
  },
  {
   "cell_type": "code",
   "execution_count": 13,
   "metadata": {
    "_kg_hide-input": true,
    "execution": {
     "iopub.execute_input": "2020-09-26T15:46:15.563451Z",
     "iopub.status.busy": "2020-09-26T15:46:15.396429Z",
     "iopub.status.idle": "2020-09-26T15:46:16.430167Z",
     "shell.execute_reply": "2020-09-26T15:46:16.431084Z"
    },
    "papermill": {
     "duration": 1.099398,
     "end_time": "2020-09-26T15:46:16.431354",
     "exception": false,
     "start_time": "2020-09-26T15:46:15.331956",
     "status": "completed"
    },
    "tags": []
   },
   "outputs": [
    {
     "data": {
      "text/plain": [
       "[Text(0, 0.5, 'Price'),\n",
       " Text(0.5, 0, 'Grade'),\n",
       " Text(0.5, 1.0, 'Grade vs Price Box Plot')]"
      ]
     },
     "execution_count": 13,
     "metadata": {},
     "output_type": "execute_result"
    },
    {
     "data": {
      "image/png": "[encoded data removed]",
      "text/plain": [
       "<Figure size 1080x360 with 2 Axes>"
      ]
     },
     "metadata": {},
     "output_type": "display_data"
    },
    {
     "data": {
      "image/png": "[encoded data removed]",
      "text/plain": [
       "<Figure size 1080x360 with 1 Axes>"
      ]
     },
     "metadata": {},
     "output_type": "display_data"
    }
   ],
   "source": [
    "f, axes = plt.subplots(1, 2,figsize=(15,5))\n",
    "sns.boxplot(x=df['waterfront'],y=df['price'], ax=axes[0])\n",
    "sns.boxplot(x=df['view'],y=df['price'], ax=axes[1])\n",
    "sns.despine(left=True, bottom=True)\n",
    "axes[0].set(xlabel='Waterfront', ylabel='Price', title='Waterfront vs Price Box Plot')\n",
    "axes[1].set(xlabel='View', ylabel='Price', title='View vs Price Box Plot')\n",
    "\n",
    "f, axe = plt.subplots(1, 1,figsize=(15,5))\n",
    "sns.boxplot(x=df['grade'],y=df['price'], ax=axe)\n",
    "sns.despine(left=True, bottom=True)\n",
    "axe.set(xlabel='Grade', ylabel='Price', title='Grade vs Price Box Plot')"
   ]
  },
  {
   "cell_type": "markdown",
   "metadata": {
    "papermill": {
     "duration": 0.054078,
     "end_time": "2020-09-26T15:46:16.550048",
     "exception": false,
     "start_time": "2020-09-26T15:46:16.495970",
     "status": "completed"
    },
    "tags": []
   },
   "source": [
    "<a id=\"ch4\"></a>\n",
    "## Working with Feature Data\n",
    "<hr/>\n",
    "\n",
    "### Correcting by dropping features\n",
    "By dropping features, we are dealing with fewer data points. Speeds up our notebook and eases the analysis. Based on our assumptions and decisions we want to drop the Id, zipcode and Date features. "
   ]
  },
  {
   "cell_type": "code",
   "execution_count": 14,
   "metadata": {
    "execution": {
     "iopub.execute_input": "2020-09-26T15:46:16.672987Z",
     "iopub.status.busy": "2020-09-26T15:46:16.672224Z",
     "iopub.status.idle": "2020-09-26T15:46:16.676173Z",
     "shell.execute_reply": "2020-09-26T15:46:16.675416Z"
    },
    "papermill": {
     "duration": 0.071671,
     "end_time": "2020-09-26T15:46:16.676312",
     "exception": false,
     "start_time": "2020-09-26T15:46:16.604641",
     "status": "completed"
    },
    "tags": []
   },
   "outputs": [],
   "source": [
    "df = df.drop('id', axis=1)\n",
    "df = df.drop('zipcode',axis=1)"
   ]
  },
  {
   "cell_type": "markdown",
   "metadata": {
    "papermill": {
     "duration": 0.054425,
     "end_time": "2020-09-26T15:46:16.786323",
     "exception": false,
     "start_time": "2020-09-26T15:46:16.731898",
     "status": "completed"
    },
    "tags": []
   },
   "source": [
    "<a id=\"ch5\"></a>\n",
    "## Feature engineering\n",
    "<hr/>\n",
    "\n",
    "We want to engineer the date feature to make a year and month column. The feature date is as a string. With pd.to_datetime we can convert an argument to datetime."
   ]
  },
  {
   "cell_type": "code",
   "execution_count": 15,
   "metadata": {
    "execution": {
     "iopub.execute_input": "2020-09-26T15:46:16.906746Z",
     "iopub.status.busy": "2020-09-26T15:46:16.905943Z",
     "iopub.status.idle": "2020-09-26T15:46:17.213834Z",
     "shell.execute_reply": "2020-09-26T15:46:17.214662Z"
    },
    "papermill": {
     "duration": 0.373965,
     "end_time": "2020-09-26T15:46:17.214902",
     "exception": false,
     "start_time": "2020-09-26T15:46:16.840937",
     "status": "completed"
    },
    "tags": []
   },
   "outputs": [
    {
     "name": "stdout",
     "output_type": "stream",
     "text": [
      "['price' 'bedrooms' 'bathrooms' 'sqft_living' 'sqft_lot' 'floors'\n",
      " 'waterfront' 'view' 'condition' 'grade' 'sqft_above' 'sqft_basement'\n",
      " 'yr_built' 'yr_renovated' 'lat' 'long' 'sqft_living15' 'sqft_lot15'\n",
      " 'month' 'year']\n"
     ]
    }
   ],
   "source": [
    "df['date'] = pd.to_datetime(df['date'])\n",
    "\n",
    "df['month'] = df['date'].apply(lambda date:date.month)\n",
    "df['year'] = df['date'].apply(lambda date:date.year)\n",
    "\n",
    "df = df.drop('date',axis=1)\n",
    "\n",
    "# Check the new columns\n",
    "print(df.columns.values)"
   ]
  },
  {
   "cell_type": "markdown",
   "metadata": {
    "papermill": {
     "duration": 0.054302,
     "end_time": "2020-09-26T15:46:17.324594",
     "exception": false,
     "start_time": "2020-09-26T15:46:17.270292",
     "status": "completed"
    },
    "tags": []
   },
   "source": [
    "### House price trends\n",
    "* Looking the box plots we notice that there is not a big difference between 2014 and 2015.\n",
    "* The number of houses sold by month tends to be similar every month. \n",
    "* The line plot show that around April there is an increase in house prices."
   ]
  },
  {
   "cell_type": "code",
   "execution_count": 16,
   "metadata": {
    "_kg_hide-input": true,
    "execution": {
     "iopub.execute_input": "2020-09-26T15:46:17.454777Z",
     "iopub.status.busy": "2020-09-26T15:46:17.449576Z",
     "iopub.status.idle": "2020-09-26T15:46:18.372847Z",
     "shell.execute_reply": "2020-09-26T15:46:18.372080Z"
    },
    "papermill": {
     "duration": 0.992618,
     "end_time": "2020-09-26T15:46:18.372978",
     "exception": false,
     "start_time": "2020-09-26T15:46:17.380360",
     "status": "completed"
    },
    "tags": []
   },
   "outputs": [
    {
     "data": {
      "text/plain": [
       "[Text(0, 0.5, 'Price'), Text(0.5, 0, 'Month'), Text(0.5, 1.0, 'Price Trends')]"
      ]
     },
     "execution_count": 16,
     "metadata": {},
     "output_type": "execute_result"
    },
    {
     "data": {
      "image/png": "[encoded data removed]",
      "text/plain": [
       "<Figure size 1080x360 with 2 Axes>"
      ]
     },
     "metadata": {},
     "output_type": "display_data"
    },
    {
     "data": {
      "image/png": "[encoded data removed]",
      "text/plain": [
       "<Figure size 1080x360 with 1 Axes>"
      ]
     },
     "metadata": {},
     "output_type": "display_data"
    }
   ],
   "source": [
    "f, axes = plt.subplots(1, 2,figsize=(15,5))\n",
    "sns.boxplot(x='year',y='price',data=df, ax=axes[0])\n",
    "sns.boxplot(x='month',y='price',data=df, ax=axes[1])\n",
    "sns.despine(left=True, bottom=True)\n",
    "axes[0].set(xlabel='Year', ylabel='Price', title='Price by Year Box Plot')\n",
    "axes[1].set(xlabel='Month', ylabel='Price', title='Price by Month Box Plot')\n",
    "\n",
    "f, axe = plt.subplots(1, 1,figsize=(15,5))\n",
    "df.groupby('month').mean()['price'].plot()\n",
    "sns.despine(left=True, bottom=True)\n",
    "axe.set(xlabel='Month', ylabel='Price', title='Price Trends')"
   ]
  },
  {
   "cell_type": "markdown",
   "metadata": {
    "papermill": {
     "duration": 0.058269,
     "end_time": "2020-09-26T15:46:18.489899",
     "exception": false,
     "start_time": "2020-09-26T15:46:18.431630",
     "status": "completed"
    },
    "tags": []
   },
   "source": [
    "<a id=\"ch6\"></a>\n",
    "## Scaling and train test split\n",
    "<hr/>\n",
    "Now we are ready to train a model and predict the required solution. There are 60+ predictive modelling algorithms to choose from. We must understand the type of problem and solution requirement to narrow down to a select few models which we can evaluate. Our problem is a mean squared error regression problem. We are also performing a category of machine learning which is called supervised learning as we are training our model with a given dataset."
   ]
  },
  {
   "cell_type": "code",
   "execution_count": 17,
   "metadata": {
    "execution": {
     "iopub.execute_input": "2020-09-26T15:46:18.618678Z",
     "iopub.status.busy": "2020-09-26T15:46:18.616942Z",
     "iopub.status.idle": "2020-09-26T15:46:18.631598Z",
     "shell.execute_reply": "2020-09-26T15:46:18.630914Z"
    },
    "papermill": {
     "duration": 0.083475,
     "end_time": "2020-09-26T15:46:18.631751",
     "exception": false,
     "start_time": "2020-09-26T15:46:18.548276",
     "status": "completed"
    },
    "tags": []
   },
   "outputs": [],
   "source": [
    "# Features\n",
    "X = df.drop('price',axis=1)\n",
    "\n",
    "# Label\n",
    "y = df['price']\n",
    "\n",
    "# Split\n",
    "X_train, X_test, y_train, y_test = train_test_split(X,y,test_size=0.3,random_state=101)"
   ]
  },
  {
   "cell_type": "code",
   "execution_count": 18,
   "metadata": {
    "execution": {
     "iopub.execute_input": "2020-09-26T15:46:18.759062Z",
     "iopub.status.busy": "2020-09-26T15:46:18.758125Z",
     "iopub.status.idle": "2020-09-26T15:46:18.763742Z",
     "shell.execute_reply": "2020-09-26T15:46:18.762367Z"
    },
    "papermill": {
     "duration": 0.072357,
     "end_time": "2020-09-26T15:46:18.763924",
     "exception": false,
     "start_time": "2020-09-26T15:46:18.691567",
     "status": "completed"
    },
    "tags": []
   },
   "outputs": [
    {
     "name": "stdout",
     "output_type": "stream",
     "text": [
      "(15129, 19)\n",
      "(6484, 19)\n",
      "(15129,)\n",
      "(6484,)\n"
     ]
    }
   ],
   "source": [
    "print(X_train.shape)\n",
    "print(X_test.shape)\n",
    "print(y_train.shape)\n",
    "print(y_test.shape)"
   ]
  },
  {
   "cell_type": "markdown",
   "metadata": {
    "papermill": {
     "duration": 0.058762,
     "end_time": "2020-09-26T15:46:18.882952",
     "exception": false,
     "start_time": "2020-09-26T15:46:18.824190",
     "status": "completed"
    },
    "tags": []
   },
   "source": [
    "### Normalizing / scaling the data\n",
    "We scale the feature data. To prevent data leakage from the test set, we only fit our scaler to the training set."
   ]
  },
  {
   "cell_type": "code",
   "execution_count": 19,
   "metadata": {
    "execution": {
     "iopub.execute_input": "2020-09-26T15:46:19.012723Z",
     "iopub.status.busy": "2020-09-26T15:46:19.011877Z",
     "iopub.status.idle": "2020-09-26T15:46:19.028263Z",
     "shell.execute_reply": "2020-09-26T15:46:19.027482Z"
    },
    "papermill": {
     "duration": 0.085378,
     "end_time": "2020-09-26T15:46:19.028411",
     "exception": false,
     "start_time": "2020-09-26T15:46:18.943033",
     "status": "completed"
    },
    "tags": []
   },
   "outputs": [
    {
     "name": "stdout",
     "output_type": "stream",
     "text": [
      "Max:  1.0000000000000002\n",
      "Min:  0.0\n"
     ]
    }
   ],
   "source": [
    "scaler = MinMaxScaler()\n",
    "\n",
    "# fit and transfrom\n",
    "X_train = scaler.fit_transform(X_train)\n",
    "X_test = scaler.transform(X_test)\n",
    "\n",
    "# everything has been scaled between 1 and 0\n",
    "print('Max: ',X_train.max())\n",
    "print('Min: ', X_train.min())"
   ]
  },
  {
   "cell_type": "markdown",
   "metadata": {
    "papermill": {
     "duration": 0.060899,
     "end_time": "2020-09-26T15:46:19.151058",
     "exception": false,
     "start_time": "2020-09-26T15:46:19.090159",
     "status": "completed"
    },
    "tags": []
   },
   "source": [
    "<a id=\"ch7\"></a>\n",
    "## Creating a model\n",
    "***\n",
    "We estimate the number of neurons (units) from our features. Ex: X_train.shape (15117, 19). The optimizer is asking how you want to perform this gradient descent. In this case we are using the Adam optimizer and the mean square error loss function."
   ]
  },
  {
   "cell_type": "code",
   "execution_count": 20,
   "metadata": {
    "execution": {
     "iopub.execute_input": "2020-09-26T15:46:19.280480Z",
     "iopub.status.busy": "2020-09-26T15:46:19.279678Z",
     "iopub.status.idle": "2020-09-26T15:46:19.378555Z",
     "shell.execute_reply": "2020-09-26T15:46:19.377896Z"
    },
    "papermill": {
     "duration": 0.167402,
     "end_time": "2020-09-26T15:46:19.378716",
     "exception": false,
     "start_time": "2020-09-26T15:46:19.211314",
     "status": "completed"
    },
    "tags": []
   },
   "outputs": [],
   "source": [
    "model = Sequential()\n",
    "\n",
    "# input layer\n",
    "model.add(Dense(19,activation='relu'))\n",
    "\n",
    "# hidden layers\n",
    "model.add(Dense(19,activation='relu'))\n",
    "model.add(Dense(19,activation='relu'))\n",
    "model.add(Dense(19,activation='relu'))\n",
    "\n",
    "# output layer\n",
    "model.add(Dense(1))\n",
    "\n",
    "model.compile(optimizer='adam',loss='mse')"
   ]
  },
  {
   "cell_type": "markdown",
   "metadata": {
    "papermill": {
     "duration": 0.063308,
     "end_time": "2020-09-26T15:46:19.503812",
     "exception": false,
     "start_time": "2020-09-26T15:46:19.440504",
     "status": "completed"
    },
    "tags": []
   },
   "source": [
    "<a id=\"ch8\"></a>\n",
    "## Training the model\n",
    "***\n",
    "Now that the model is ready, we can fit the model into the data.\n",
    "\n",
    "Since the dataset is large, we are going to use batch_size. It is typical to use batches of the power of 2 (32, 64, 128, 256...). In this case we are using 128. The smaller the batch size, the longer is going to take."
   ]
  },
  {
   "cell_type": "code",
   "execution_count": 21,
   "metadata": {
    "_kg_hide-output": true,
    "collapsed": true,
    "execution": {
     "iopub.execute_input": "2020-09-26T15:46:19.633582Z",
     "iopub.status.busy": "2020-09-26T15:46:19.632752Z",
     "iopub.status.idle": "2020-09-26T15:47:57.756785Z",
     "shell.execute_reply": "2020-09-26T15:47:57.756088Z"
    },
    "papermill": {
     "duration": 98.191956,
     "end_time": "2020-09-26T15:47:57.756930",
     "exception": false,
     "start_time": "2020-09-26T15:46:19.564974",
     "status": "completed"
    },
    "tags": []
   },
   "outputs": [
    {
     "name": "stdout",
     "output_type": "stream",
     "text": [
      "Epoch 1/400\n",
      "119/119 [==============================] - 0s 3ms/step - loss: 423628865536.0000 - val_loss: 433025318912.0000\n",
      "Epoch 2/400\n",
      "119/119 [==============================] - 0s 2ms/step - loss: 422575112192.0000 - val_loss: 429043613696.0000\n",
      "Epoch 3/400\n",
      "119/119 [==============================] - 0s 2ms/step - loss: 405271937024.0000 - val_loss: 387449159680.0000\n",
      "Epoch 4/400\n",
      "119/119 [==============================] - 0s 2ms/step - loss: 317229367296.0000 - val_loss: 243894910976.0000\n",
      "Epoch 5/400\n",
      "119/119 [==============================] - 0s 2ms/step - loss: 160719732736.0000 - val_loss: 114622947328.0000\n",
      "Epoch 6/400\n",
      "119/119 [==============================] - 0s 2ms/step - loss: 100828872704.0000 - val_loss: 103622770688.0000\n",
      "Epoch 7/400\n",
      "119/119 [==============================] - 0s 2ms/step - loss: 97534361600.0000 - val_loss: 101779013632.0000\n",
      "Epoch 8/400\n",
      "119/119 [==============================] - 0s 2ms/step - loss: 95929737216.0000 - val_loss: 100011016192.0000\n",
      "Epoch 9/400\n",
      "119/119 [==============================] - 0s 2ms/step - loss: 94263640064.0000 - val_loss: 98245361664.0000\n",
      "Epoch 10/400\n",
      "119/119 [==============================] - 0s 2ms/step - loss: 92576391168.0000 - val_loss: 96350371840.0000\n",
      "Epoch 11/400\n",
      "119/119 [==============================] - 0s 2ms/step - loss: 90789683200.0000 - val_loss: 94414995456.0000\n",
      "Epoch 12/400\n",
      "119/119 [==============================] - 0s 2ms/step - loss: 88971132928.0000 - val_loss: 92418686976.0000\n",
      "Epoch 13/400\n",
      "119/119 [==============================] - 0s 2ms/step - loss: 87074209792.0000 - val_loss: 90308993024.0000\n",
      "Epoch 14/400\n",
      "119/119 [==============================] - 0s 2ms/step - loss: 85069299712.0000 - val_loss: 88066433024.0000\n",
      "Epoch 15/400\n",
      "119/119 [==============================] - 0s 2ms/step - loss: 82979618816.0000 - val_loss: 85729533952.0000\n",
      "Epoch 16/400\n",
      "119/119 [==============================] - 0s 2ms/step - loss: 80728834048.0000 - val_loss: 83276062720.0000\n",
      "Epoch 17/400\n",
      "119/119 [==============================] - 0s 2ms/step - loss: 78353727488.0000 - val_loss: 80583614464.0000\n",
      "Epoch 18/400\n",
      "119/119 [==============================] - 0s 2ms/step - loss: 75862212608.0000 - val_loss: 77746520064.0000\n",
      "Epoch 19/400\n",
      "119/119 [==============================] - 0s 2ms/step - loss: 73271017472.0000 - val_loss: 74886701056.0000\n",
      "Epoch 20/400\n",
      "119/119 [==============================] - 0s 2ms/step - loss: 70627368960.0000 - val_loss: 72074551296.0000\n",
      "Epoch 21/400\n",
      "119/119 [==============================] - 0s 2ms/step - loss: 68069761024.0000 - val_loss: 69127643136.0000\n",
      "Epoch 22/400\n",
      "119/119 [==============================] - 0s 2ms/step - loss: 65472552960.0000 - val_loss: 66385580032.0000\n",
      "Epoch 23/400\n",
      "119/119 [==============================] - 0s 2ms/step - loss: 63025254400.0000 - val_loss: 63793610752.0000\n",
      "Epoch 24/400\n",
      "119/119 [==============================] - 0s 2ms/step - loss: 60721704960.0000 - val_loss: 61261127680.0000\n",
      "Epoch 25/400\n",
      "119/119 [==============================] - 0s 2ms/step - loss: 58630639616.0000 - val_loss: 59107688448.0000\n",
      "Epoch 26/400\n",
      "119/119 [==============================] - 0s 2ms/step - loss: 56873181184.0000 - val_loss: 57168265216.0000\n",
      "Epoch 27/400\n",
      "119/119 [==============================] - 0s 2ms/step - loss: 55380938752.0000 - val_loss: 55736037376.0000\n",
      "Epoch 28/400\n",
      "119/119 [==============================] - 0s 2ms/step - loss: 54075789312.0000 - val_loss: 54267383808.0000\n",
      "Epoch 29/400\n",
      "119/119 [==============================] - 0s 2ms/step - loss: 53034631168.0000 - val_loss: 53127524352.0000\n",
      "Epoch 30/400\n",
      "119/119 [==============================] - 0s 2ms/step - loss: 52100800512.0000 - val_loss: 52197724160.0000\n",
      "Epoch 31/400\n",
      "119/119 [==============================] - 0s 2ms/step - loss: 51283664896.0000 - val_loss: 51386818560.0000\n",
      "Epoch 32/400\n",
      "119/119 [==============================] - 0s 2ms/step - loss: 50515615744.0000 - val_loss: 50551066624.0000\n",
      "Epoch 33/400\n",
      "119/119 [==============================] - 0s 2ms/step - loss: 49802412032.0000 - val_loss: 49821323264.0000\n",
      "Epoch 34/400\n",
      "119/119 [==============================] - 0s 2ms/step - loss: 49173086208.0000 - val_loss: 49162383360.0000\n",
      "Epoch 35/400\n",
      "119/119 [==============================] - 0s 2ms/step - loss: 48585744384.0000 - val_loss: 48558129152.0000\n",
      "Epoch 36/400\n",
      "119/119 [==============================] - 0s 2ms/step - loss: 48015347712.0000 - val_loss: 47987548160.0000\n",
      "Epoch 37/400\n",
      "119/119 [==============================] - 0s 2ms/step - loss: 47471976448.0000 - val_loss: 47459467264.0000\n",
      "Epoch 38/400\n",
      "119/119 [==============================] - 0s 2ms/step - loss: 46983348224.0000 - val_loss: 47012937728.0000\n",
      "Epoch 39/400\n",
      "119/119 [==============================] - 0s 2ms/step - loss: 46556594176.0000 - val_loss: 46494433280.0000\n",
      "Epoch 40/400\n",
      "119/119 [==============================] - 0s 2ms/step - loss: 46092722176.0000 - val_loss: 46057209856.0000\n",
      "Epoch 41/400\n",
      "119/119 [==============================] - 0s 2ms/step - loss: 45662056448.0000 - val_loss: 45672316928.0000\n",
      "Epoch 42/400\n",
      "119/119 [==============================] - 0s 2ms/step - loss: 45307691008.0000 - val_loss: 45204000768.0000\n",
      "Epoch 43/400\n",
      "119/119 [==============================] - 0s 2ms/step - loss: 44885884928.0000 - val_loss: 44792283136.0000\n",
      "Epoch 44/400\n",
      "119/119 [==============================] - 0s 2ms/step - loss: 44494086144.0000 - val_loss: 44432039936.0000\n",
      "Epoch 45/400\n",
      "119/119 [==============================] - 0s 2ms/step - loss: 44129869824.0000 - val_loss: 44019421184.0000\n",
      "Epoch 46/400\n",
      "119/119 [==============================] - 0s 2ms/step - loss: 43745390592.0000 - val_loss: 43788304384.0000\n",
      "Epoch 47/400\n",
      "119/119 [==============================] - 0s 2ms/step - loss: 43406913536.0000 - val_loss: 43318960128.0000\n",
      "Epoch 48/400\n",
      "119/119 [==============================] - 0s 2ms/step - loss: 43040292864.0000 - val_loss: 42967171072.0000\n",
      "Epoch 49/400\n",
      "119/119 [==============================] - 0s 2ms/step - loss: 42739269632.0000 - val_loss: 42677411840.0000\n",
      "Epoch 50/400\n",
      "119/119 [==============================] - 0s 2ms/step - loss: 42477572096.0000 - val_loss: 42369970176.0000\n",
      "Epoch 51/400\n",
      "119/119 [==============================] - 0s 2ms/step - loss: 42171895808.0000 - val_loss: 42065588224.0000\n",
      "Epoch 52/400\n",
      "119/119 [==============================] - 0s 2ms/step - loss: 41933635584.0000 - val_loss: 41819897856.0000\n",
      "Epoch 53/400\n",
      "119/119 [==============================] - 0s 2ms/step - loss: 41637548032.0000 - val_loss: 41583628288.0000\n",
      "Epoch 54/400\n",
      "119/119 [==============================] - 0s 2ms/step - loss: 41408741376.0000 - val_loss: 41224654848.0000\n",
      "Epoch 55/400\n",
      "119/119 [==============================] - 0s 2ms/step - loss: 41135181824.0000 - val_loss: 40966496256.0000\n",
      "Epoch 56/400\n",
      "119/119 [==============================] - 0s 2ms/step - loss: 40901914624.0000 - val_loss: 40697085952.0000\n",
      "Epoch 57/400\n",
      "119/119 [==============================] - 0s 2ms/step - loss: 40626798592.0000 - val_loss: 40426135552.0000\n",
      "Epoch 58/400\n",
      "119/119 [==============================] - 0s 2ms/step - loss: 40395063296.0000 - val_loss: 40159232000.0000\n",
      "Epoch 59/400\n",
      "119/119 [==============================] - 0s 2ms/step - loss: 40109346816.0000 - val_loss: 39893250048.0000\n",
      "Epoch 60/400\n",
      "119/119 [==============================] - 0s 2ms/step - loss: 39893655552.0000 - val_loss: 39675928576.0000\n",
      "Epoch 61/400\n",
      "119/119 [==============================] - 0s 2ms/step - loss: 39649419264.0000 - val_loss: 39384023040.0000\n",
      "Epoch 62/400\n",
      "119/119 [==============================] - 0s 2ms/step - loss: 39438282752.0000 - val_loss: 39147667456.0000\n",
      "Epoch 63/400\n",
      "119/119 [==============================] - 0s 2ms/step - loss: 39187918848.0000 - val_loss: 38886789120.0000\n",
      "Epoch 64/400\n",
      "119/119 [==============================] - 0s 2ms/step - loss: 38983745536.0000 - val_loss: 38661283840.0000\n",
      "Epoch 65/400\n",
      "119/119 [==============================] - 0s 2ms/step - loss: 38771261440.0000 - val_loss: 38444130304.0000\n",
      "Epoch 66/400\n",
      "119/119 [==============================] - 0s 2ms/step - loss: 38564085760.0000 - val_loss: 38224269312.0000\n",
      "Epoch 67/400\n",
      "119/119 [==============================] - 0s 2ms/step - loss: 38404624384.0000 - val_loss: 38022991872.0000\n",
      "Epoch 68/400\n",
      "119/119 [==============================] - 0s 2ms/step - loss: 38186217472.0000 - val_loss: 37823619072.0000\n",
      "Epoch 69/400\n",
      "119/119 [==============================] - 0s 2ms/step - loss: 38025199616.0000 - val_loss: 37650542592.0000\n",
      "Epoch 70/400\n",
      "119/119 [==============================] - 0s 2ms/step - loss: 37881073664.0000 - val_loss: 37474775040.0000\n",
      "Epoch 71/400\n",
      "119/119 [==============================] - 0s 2ms/step - loss: 37700222976.0000 - val_loss: 37300736000.0000\n",
      "Epoch 72/400\n",
      "119/119 [==============================] - 0s 2ms/step - loss: 37544673280.0000 - val_loss: 37107957760.0000\n",
      "Epoch 73/400\n",
      "119/119 [==============================] - 0s 2ms/step - loss: 37388836864.0000 - val_loss: 36940050432.0000\n",
      "Epoch 74/400\n",
      "119/119 [==============================] - 0s 2ms/step - loss: 37237645312.0000 - val_loss: 36817637376.0000\n",
      "Epoch 75/400\n",
      "119/119 [==============================] - 0s 2ms/step - loss: 37063217152.0000 - val_loss: 36693831680.0000\n",
      "Epoch 76/400\n",
      "119/119 [==============================] - 0s 2ms/step - loss: 36959649792.0000 - val_loss: 36504891392.0000\n",
      "Epoch 77/400\n",
      "119/119 [==============================] - 0s 2ms/step - loss: 36809674752.0000 - val_loss: 36360732672.0000\n",
      "Epoch 78/400\n",
      "119/119 [==============================] - 0s 2ms/step - loss: 36676796416.0000 - val_loss: 36264210432.0000\n",
      "Epoch 79/400\n",
      "119/119 [==============================] - 0s 2ms/step - loss: 36566052864.0000 - val_loss: 36100878336.0000\n",
      "Epoch 80/400\n",
      "119/119 [==============================] - 0s 2ms/step - loss: 36444270592.0000 - val_loss: 36001669120.0000\n",
      "Epoch 81/400\n",
      "119/119 [==============================] - 0s 2ms/step - loss: 36348837888.0000 - val_loss: 35889623040.0000\n",
      "Epoch 82/400\n",
      "119/119 [==============================] - 0s 2ms/step - loss: 36256657408.0000 - val_loss: 35779522560.0000\n",
      "Epoch 83/400\n",
      "119/119 [==============================] - 0s 2ms/step - loss: 36150390784.0000 - val_loss: 35771035648.0000\n",
      "Epoch 84/400\n",
      "119/119 [==============================] - 0s 2ms/step - loss: 36082552832.0000 - val_loss: 35582238720.0000\n",
      "Epoch 85/400\n",
      "119/119 [==============================] - 0s 2ms/step - loss: 35979681792.0000 - val_loss: 35506335744.0000\n",
      "Epoch 86/400\n",
      "119/119 [==============================] - 0s 2ms/step - loss: 35882848256.0000 - val_loss: 35369250816.0000\n",
      "Epoch 87/400\n",
      "119/119 [==============================] - 0s 2ms/step - loss: 35752935424.0000 - val_loss: 35279966208.0000\n",
      "Epoch 88/400\n",
      "119/119 [==============================] - 0s 2ms/step - loss: 35715604480.0000 - val_loss: 35176357888.0000\n",
      "Epoch 89/400\n",
      "119/119 [==============================] - 0s 2ms/step - loss: 35617193984.0000 - val_loss: 35100835840.0000\n",
      "Epoch 90/400\n",
      "119/119 [==============================] - 0s 2ms/step - loss: 35522269184.0000 - val_loss: 35036958720.0000\n",
      "Epoch 91/400\n",
      "119/119 [==============================] - 0s 2ms/step - loss: 35448328192.0000 - val_loss: 34926915584.0000\n",
      "Epoch 92/400\n",
      "119/119 [==============================] - 0s 2ms/step - loss: 35409219584.0000 - val_loss: 35017400320.0000\n",
      "Epoch 93/400\n",
      "119/119 [==============================] - 0s 2ms/step - loss: 35306283008.0000 - val_loss: 34894602240.0000\n",
      "Epoch 94/400\n",
      "119/119 [==============================] - 0s 2ms/step - loss: 35227279360.0000 - val_loss: 34704936960.0000\n",
      "Epoch 95/400\n",
      "119/119 [==============================] - 0s 2ms/step - loss: 35161604096.0000 - val_loss: 34652950528.0000\n",
      "Epoch 96/400\n",
      "119/119 [==============================] - 0s 2ms/step - loss: 35091337216.0000 - val_loss: 34668351488.0000\n",
      "Epoch 97/400\n",
      "119/119 [==============================] - 0s 2ms/step - loss: 35039117312.0000 - val_loss: 34515423232.0000\n",
      "Epoch 98/400\n",
      "119/119 [==============================] - 0s 2ms/step - loss: 34969374720.0000 - val_loss: 34416074752.0000\n",
      "Epoch 99/400\n",
      "119/119 [==============================] - 0s 2ms/step - loss: 34897698816.0000 - val_loss: 34360426496.0000\n",
      "Epoch 100/400\n",
      "119/119 [==============================] - 0s 2ms/step - loss: 34858700800.0000 - val_loss: 34373795840.0000\n",
      "Epoch 101/400\n",
      "119/119 [==============================] - 0s 2ms/step - loss: 34788491264.0000 - val_loss: 34212880384.0000\n",
      "Epoch 102/400\n",
      "119/119 [==============================] - 0s 2ms/step - loss: 34697805824.0000 - val_loss: 34148478976.0000\n",
      "Epoch 103/400\n",
      "119/119 [==============================] - 0s 2ms/step - loss: 34655035392.0000 - val_loss: 34086045696.0000\n",
      "Epoch 104/400\n",
      "119/119 [==============================] - 0s 2ms/step - loss: 34588639232.0000 - val_loss: 34035306496.0000\n",
      "Epoch 105/400\n",
      "119/119 [==============================] - 0s 2ms/step - loss: 34547044352.0000 - val_loss: 34001031168.0000\n",
      "Epoch 106/400\n",
      "119/119 [==============================] - 0s 2ms/step - loss: 34460008448.0000 - val_loss: 33987024896.0000\n",
      "Epoch 107/400\n",
      "119/119 [==============================] - 0s 2ms/step - loss: 34406514688.0000 - val_loss: 33856458752.0000\n",
      "Epoch 108/400\n",
      "119/119 [==============================] - 0s 2ms/step - loss: 34339514368.0000 - val_loss: 33814841344.0000\n",
      "Epoch 109/400\n",
      "119/119 [==============================] - 0s 2ms/step - loss: 34313682944.0000 - val_loss: 33742899200.0000\n",
      "Epoch 110/400\n",
      "119/119 [==============================] - 0s 2ms/step - loss: 34257231872.0000 - val_loss: 33702914048.0000\n",
      "Epoch 111/400\n",
      "119/119 [==============================] - 0s 2ms/step - loss: 34209531904.0000 - val_loss: 33649231872.0000\n",
      "Epoch 112/400\n",
      "119/119 [==============================] - 0s 2ms/step - loss: 34160123904.0000 - val_loss: 33574184960.0000\n",
      "Epoch 113/400\n",
      "119/119 [==============================] - 0s 2ms/step - loss: 34076981248.0000 - val_loss: 33567066112.0000\n",
      "Epoch 114/400\n",
      "119/119 [==============================] - 0s 2ms/step - loss: 34058211328.0000 - val_loss: 33471596544.0000\n",
      "Epoch 115/400\n",
      "119/119 [==============================] - 0s 2ms/step - loss: 33994680320.0000 - val_loss: 33445560320.0000\n",
      "Epoch 116/400\n",
      "119/119 [==============================] - 0s 2ms/step - loss: 33933162496.0000 - val_loss: 33350078464.0000\n",
      "Epoch 117/400\n",
      "119/119 [==============================] - 0s 2ms/step - loss: 33875646464.0000 - val_loss: 33305743360.0000\n",
      "Epoch 118/400\n",
      "119/119 [==============================] - 0s 2ms/step - loss: 33853405184.0000 - val_loss: 33327327232.0000\n",
      "Epoch 119/400\n",
      "119/119 [==============================] - 0s 2ms/step - loss: 33849978880.0000 - val_loss: 33209507840.0000\n",
      "Epoch 120/400\n",
      "119/119 [==============================] - 0s 2ms/step - loss: 33777274880.0000 - val_loss: 33177714688.0000\n",
      "Epoch 121/400\n",
      "119/119 [==============================] - 0s 2ms/step - loss: 33709578240.0000 - val_loss: 33124392960.0000\n",
      "Epoch 122/400\n",
      "119/119 [==============================] - 0s 2ms/step - loss: 33683415040.0000 - val_loss: 33149044736.0000\n",
      "Epoch 123/400\n",
      "119/119 [==============================] - 0s 2ms/step - loss: 33635856384.0000 - val_loss: 33046614016.0000\n",
      "Epoch 124/400\n",
      "119/119 [==============================] - 0s 2ms/step - loss: 33601497088.0000 - val_loss: 33022662656.0000\n",
      "Epoch 125/400\n",
      "119/119 [==============================] - 0s 2ms/step - loss: 33584697344.0000 - val_loss: 32968892416.0000\n",
      "Epoch 126/400\n",
      "119/119 [==============================] - 0s 2ms/step - loss: 33521143808.0000 - val_loss: 33055121408.0000\n",
      "Epoch 127/400\n",
      "119/119 [==============================] - 0s 2ms/step - loss: 33498443776.0000 - val_loss: 32903813120.0000\n",
      "Epoch 128/400\n",
      "119/119 [==============================] - 0s 2ms/step - loss: 33486309376.0000 - val_loss: 32901769216.0000\n",
      "Epoch 129/400\n",
      "119/119 [==============================] - 0s 2ms/step - loss: 33458212864.0000 - val_loss: 32829839360.0000\n",
      "Epoch 130/400\n",
      "119/119 [==============================] - 0s 2ms/step - loss: 33388054528.0000 - val_loss: 32792297472.0000\n",
      "Epoch 131/400\n",
      "119/119 [==============================] - 0s 2ms/step - loss: 33335601152.0000 - val_loss: 32812097536.0000\n",
      "Epoch 132/400\n",
      "119/119 [==============================] - 0s 2ms/step - loss: 33362434048.0000 - val_loss: 32719144960.0000\n",
      "Epoch 133/400\n",
      "119/119 [==============================] - 0s 2ms/step - loss: 33288863744.0000 - val_loss: 32711690240.0000\n",
      "Epoch 134/400\n",
      "119/119 [==============================] - 0s 2ms/step - loss: 33300832256.0000 - val_loss: 32865699840.0000\n",
      "Epoch 135/400\n",
      "119/119 [==============================] - 0s 2ms/step - loss: 33249355776.0000 - val_loss: 32652331008.0000\n",
      "Epoch 136/400\n",
      "119/119 [==============================] - 0s 2ms/step - loss: 33206315008.0000 - val_loss: 32610367488.0000\n",
      "Epoch 137/400\n",
      "119/119 [==============================] - 0s 2ms/step - loss: 33219747840.0000 - val_loss: 32575698944.0000\n",
      "Epoch 138/400\n",
      "119/119 [==============================] - 0s 2ms/step - loss: 33110300672.0000 - val_loss: 32543123456.0000\n",
      "Epoch 139/400\n",
      "119/119 [==============================] - 0s 2ms/step - loss: 33098680320.0000 - val_loss: 32523962368.0000\n",
      "Epoch 140/400\n",
      "119/119 [==============================] - 0s 2ms/step - loss: 33099372544.0000 - val_loss: 32484571136.0000\n",
      "Epoch 141/400\n",
      "119/119 [==============================] - 0s 2ms/step - loss: 33030279168.0000 - val_loss: 32501141504.0000\n",
      "Epoch 142/400\n",
      "119/119 [==============================] - 0s 2ms/step - loss: 33029629952.0000 - val_loss: 32429582336.0000\n",
      "Epoch 143/400\n",
      "119/119 [==============================] - 0s 2ms/step - loss: 32978532352.0000 - val_loss: 32456642560.0000\n",
      "Epoch 144/400\n",
      "119/119 [==============================] - 0s 2ms/step - loss: 32968792064.0000 - val_loss: 32410224640.0000\n",
      "Epoch 145/400\n",
      "119/119 [==============================] - 0s 2ms/step - loss: 32926013440.0000 - val_loss: 32340885504.0000\n",
      "Epoch 146/400\n",
      "119/119 [==============================] - 0s 2ms/step - loss: 32873689088.0000 - val_loss: 32304840704.0000\n",
      "Epoch 147/400\n",
      "119/119 [==============================] - 0s 2ms/step - loss: 32871122944.0000 - val_loss: 32302598144.0000\n",
      "Epoch 148/400\n",
      "119/119 [==============================] - 0s 2ms/step - loss: 32843300864.0000 - val_loss: 32262137856.0000\n",
      "Epoch 149/400\n",
      "119/119 [==============================] - 0s 2ms/step - loss: 32810362880.0000 - val_loss: 32241752064.0000\n",
      "Epoch 150/400\n",
      "119/119 [==============================] - 0s 2ms/step - loss: 32781404160.0000 - val_loss: 32177473536.0000\n",
      "Epoch 151/400\n",
      "119/119 [==============================] - 0s 2ms/step - loss: 32757352448.0000 - val_loss: 32165879808.0000\n",
      "Epoch 152/400\n",
      "119/119 [==============================] - 0s 2ms/step - loss: 32751099904.0000 - val_loss: 32163858432.0000\n",
      "Epoch 153/400\n",
      "119/119 [==============================] - 0s 2ms/step - loss: 32662777856.0000 - val_loss: 32140216320.0000\n",
      "Epoch 154/400\n",
      "119/119 [==============================] - 0s 2ms/step - loss: 32726564864.0000 - val_loss: 32152025088.0000\n",
      "Epoch 155/400\n",
      "119/119 [==============================] - 0s 2ms/step - loss: 32702666752.0000 - val_loss: 32056381440.0000\n",
      "Epoch 156/400\n",
      "119/119 [==============================] - 0s 2ms/step - loss: 32628936704.0000 - val_loss: 32093831168.0000\n",
      "Epoch 157/400\n",
      "119/119 [==============================] - 0s 2ms/step - loss: 32627095552.0000 - val_loss: 31987832832.0000\n",
      "Epoch 158/400\n",
      "119/119 [==============================] - 0s 2ms/step - loss: 32550434816.0000 - val_loss: 31945629696.0000\n",
      "Epoch 159/400\n",
      "119/119 [==============================] - 0s 2ms/step - loss: 32517965824.0000 - val_loss: 31910189056.0000\n",
      "Epoch 160/400\n",
      "119/119 [==============================] - 0s 2ms/step - loss: 32500367360.0000 - val_loss: 31908749312.0000\n",
      "Epoch 161/400\n",
      "119/119 [==============================] - 0s 2ms/step - loss: 32472725504.0000 - val_loss: 31865927680.0000\n",
      "Epoch 162/400\n",
      "119/119 [==============================] - 0s 2ms/step - loss: 32464850944.0000 - val_loss: 31837992960.0000\n",
      "Epoch 163/400\n",
      "119/119 [==============================] - 0s 2ms/step - loss: 32435386368.0000 - val_loss: 31874512896.0000\n",
      "Epoch 164/400\n",
      "119/119 [==============================] - 0s 2ms/step - loss: 32387407872.0000 - val_loss: 31798390784.0000\n",
      "Epoch 165/400\n",
      "119/119 [==============================] - 0s 2ms/step - loss: 32379793408.0000 - val_loss: 31792441344.0000\n",
      "Epoch 166/400\n",
      "119/119 [==============================] - 0s 2ms/step - loss: 32315834368.0000 - val_loss: 31779336192.0000\n",
      "Epoch 167/400\n",
      "119/119 [==============================] - 0s 2ms/step - loss: 32313401344.0000 - val_loss: 31740166144.0000\n",
      "Epoch 168/400\n",
      "119/119 [==============================] - 0s 2ms/step - loss: 32315402240.0000 - val_loss: 31741366272.0000\n",
      "Epoch 169/400\n",
      "119/119 [==============================] - 0s 2ms/step - loss: 32317501440.0000 - val_loss: 31679725568.0000\n",
      "Epoch 170/400\n",
      "119/119 [==============================] - 0s 2ms/step - loss: 32222732288.0000 - val_loss: 31756089344.0000\n",
      "Epoch 171/400\n",
      "119/119 [==============================] - 0s 2ms/step - loss: 32215767040.0000 - val_loss: 31653609472.0000\n",
      "Epoch 172/400\n",
      "119/119 [==============================] - 0s 2ms/step - loss: 32184590336.0000 - val_loss: 31600267264.0000\n",
      "Epoch 173/400\n",
      "119/119 [==============================] - 0s 2ms/step - loss: 32184938496.0000 - val_loss: 31569102848.0000\n",
      "Epoch 174/400\n",
      "119/119 [==============================] - 0s 2ms/step - loss: 32138141696.0000 - val_loss: 31559847936.0000\n",
      "Epoch 175/400\n",
      "119/119 [==============================] - 0s 2ms/step - loss: 32110100480.0000 - val_loss: 31575791616.0000\n",
      "Epoch 176/400\n",
      "119/119 [==============================] - 0s 2ms/step - loss: 32089362432.0000 - val_loss: 31621994496.0000\n",
      "Epoch 177/400\n",
      "119/119 [==============================] - 0s 2ms/step - loss: 32157200384.0000 - val_loss: 31500331008.0000\n",
      "Epoch 178/400\n",
      "119/119 [==============================] - 0s 2ms/step - loss: 32102891520.0000 - val_loss: 31457001472.0000\n",
      "Epoch 179/400\n",
      "119/119 [==============================] - 0s 2ms/step - loss: 32058079232.0000 - val_loss: 31457865728.0000\n",
      "Epoch 180/400\n",
      "119/119 [==============================] - 0s 2ms/step - loss: 31999115264.0000 - val_loss: 31418333184.0000\n",
      "Epoch 181/400\n",
      "119/119 [==============================] - 0s 2ms/step - loss: 32008419328.0000 - val_loss: 31394697216.0000\n",
      "Epoch 182/400\n",
      "119/119 [==============================] - 0s 2ms/step - loss: 31990218752.0000 - val_loss: 31367286784.0000\n",
      "Epoch 183/400\n",
      "119/119 [==============================] - 0s 2ms/step - loss: 31936327680.0000 - val_loss: 31589320704.0000\n",
      "Epoch 184/400\n",
      "119/119 [==============================] - 0s 2ms/step - loss: 31920566272.0000 - val_loss: 31337037824.0000\n",
      "Epoch 185/400\n",
      "119/119 [==============================] - 0s 2ms/step - loss: 31891191808.0000 - val_loss: 31318208512.0000\n",
      "Epoch 186/400\n",
      "119/119 [==============================] - 0s 2ms/step - loss: 31887454208.0000 - val_loss: 31334258688.0000\n",
      "Epoch 187/400\n",
      "119/119 [==============================] - 0s 2ms/step - loss: 31839234048.0000 - val_loss: 31311718400.0000\n",
      "Epoch 188/400\n",
      "119/119 [==============================] - 0s 2ms/step - loss: 31863732224.0000 - val_loss: 31224430592.0000\n",
      "Epoch 189/400\n",
      "119/119 [==============================] - 0s 2ms/step - loss: 31844849664.0000 - val_loss: 31228585984.0000\n",
      "Epoch 190/400\n",
      "119/119 [==============================] - 0s 2ms/step - loss: 31773511680.0000 - val_loss: 31198351360.0000\n",
      "Epoch 191/400\n",
      "119/119 [==============================] - 0s 2ms/step - loss: 31801413632.0000 - val_loss: 31412637696.0000\n",
      "Epoch 192/400\n",
      "119/119 [==============================] - 0s 2ms/step - loss: 31818747904.0000 - val_loss: 31151917056.0000\n",
      "Epoch 193/400\n",
      "119/119 [==============================] - 0s 2ms/step - loss: 31739568128.0000 - val_loss: 31108673536.0000\n",
      "Epoch 194/400\n",
      "119/119 [==============================] - 0s 2ms/step - loss: 31681822720.0000 - val_loss: 31071981568.0000\n",
      "Epoch 195/400\n",
      "119/119 [==============================] - 0s 2ms/step - loss: 31747569664.0000 - val_loss: 31058833408.0000\n",
      "Epoch 196/400\n",
      "119/119 [==============================] - 0s 2ms/step - loss: 31643457536.0000 - val_loss: 31137472512.0000\n",
      "Epoch 197/400\n",
      "119/119 [==============================] - 0s 2ms/step - loss: 31680262144.0000 - val_loss: 31030308864.0000\n",
      "Epoch 198/400\n",
      "119/119 [==============================] - 0s 2ms/step - loss: 31647850496.0000 - val_loss: 30986164224.0000\n",
      "Epoch 199/400\n",
      "119/119 [==============================] - 0s 2ms/step - loss: 31605497856.0000 - val_loss: 30963009536.0000\n",
      "Epoch 200/400\n",
      "119/119 [==============================] - 0s 2ms/step - loss: 31618232320.0000 - val_loss: 30945312768.0000\n",
      "Epoch 201/400\n",
      "119/119 [==============================] - 0s 2ms/step - loss: 31529185280.0000 - val_loss: 30953678848.0000\n",
      "Epoch 202/400\n",
      "119/119 [==============================] - 0s 2ms/step - loss: 31518652416.0000 - val_loss: 31105329152.0000\n",
      "Epoch 203/400\n",
      "119/119 [==============================] - 0s 2ms/step - loss: 31523557376.0000 - val_loss: 30881445888.0000\n",
      "Epoch 204/400\n",
      "119/119 [==============================] - 0s 2ms/step - loss: 31536922624.0000 - val_loss: 31055917056.0000\n",
      "Epoch 205/400\n",
      "119/119 [==============================] - 0s 2ms/step - loss: 31446571008.0000 - val_loss: 30860783616.0000\n",
      "Epoch 206/400\n",
      "119/119 [==============================] - 0s 2ms/step - loss: 31464181760.0000 - val_loss: 30883188736.0000\n",
      "Epoch 207/400\n",
      "119/119 [==============================] - 0s 2ms/step - loss: 31413508096.0000 - val_loss: 30863542272.0000\n",
      "Epoch 208/400\n",
      "119/119 [==============================] - 0s 2ms/step - loss: 31427592192.0000 - val_loss: 30862239744.0000\n",
      "Epoch 209/400\n",
      "119/119 [==============================] - 0s 2ms/step - loss: 31404877824.0000 - val_loss: 30811660288.0000\n",
      "Epoch 210/400\n",
      "119/119 [==============================] - 0s 2ms/step - loss: 31405565952.0000 - val_loss: 30785112064.0000\n",
      "Epoch 211/400\n",
      "119/119 [==============================] - 0s 2ms/step - loss: 31395729408.0000 - val_loss: 30753402880.0000\n",
      "Epoch 212/400\n",
      "119/119 [==============================] - 0s 2ms/step - loss: 31338237952.0000 - val_loss: 30732490752.0000\n",
      "Epoch 213/400\n",
      "119/119 [==============================] - 0s 2ms/step - loss: 31315875840.0000 - val_loss: 30786336768.0000\n",
      "Epoch 214/400\n",
      "119/119 [==============================] - 0s 2ms/step - loss: 31296118784.0000 - val_loss: 30689689600.0000\n",
      "Epoch 215/400\n",
      "119/119 [==============================] - 0s 2ms/step - loss: 31278700544.0000 - val_loss: 30693079040.0000\n",
      "Epoch 216/400\n",
      "119/119 [==============================] - 0s 2ms/step - loss: 31264571392.0000 - val_loss: 30655127552.0000\n",
      "Epoch 217/400\n",
      "119/119 [==============================] - 0s 2ms/step - loss: 31246338048.0000 - val_loss: 30654642176.0000\n",
      "Epoch 218/400\n",
      "119/119 [==============================] - 0s 2ms/step - loss: 31218032640.0000 - val_loss: 30619418624.0000\n",
      "Epoch 219/400\n",
      "119/119 [==============================] - 0s 2ms/step - loss: 31194388480.0000 - val_loss: 30647078912.0000\n",
      "Epoch 220/400\n",
      "119/119 [==============================] - 0s 2ms/step - loss: 31237412864.0000 - val_loss: 30591399936.0000\n",
      "Epoch 221/400\n",
      "119/119 [==============================] - 0s 2ms/step - loss: 31203338240.0000 - val_loss: 30586544128.0000\n",
      "Epoch 222/400\n",
      "119/119 [==============================] - 0s 2ms/step - loss: 31163267072.0000 - val_loss: 30569838592.0000\n",
      "Epoch 223/400\n",
      "119/119 [==============================] - 0s 2ms/step - loss: 31127613440.0000 - val_loss: 30607022080.0000\n",
      "Epoch 224/400\n",
      "119/119 [==============================] - 0s 2ms/step - loss: 31168620544.0000 - val_loss: 30568744960.0000\n",
      "Epoch 225/400\n",
      "119/119 [==============================] - 0s 2ms/step - loss: 31187482624.0000 - val_loss: 30502934528.0000\n",
      "Epoch 226/400\n",
      "119/119 [==============================] - 0s 2ms/step - loss: 31101669376.0000 - val_loss: 30504187904.0000\n",
      "Epoch 227/400\n",
      "119/119 [==============================] - 0s 2ms/step - loss: 31080173568.0000 - val_loss: 30532483072.0000\n",
      "Epoch 228/400\n",
      "119/119 [==============================] - 0s 2ms/step - loss: 31074854912.0000 - val_loss: 30444054528.0000\n",
      "Epoch 229/400\n",
      "119/119 [==============================] - 0s 2ms/step - loss: 31038052352.0000 - val_loss: 30431166464.0000\n",
      "Epoch 230/400\n",
      "119/119 [==============================] - 0s 2ms/step - loss: 31032287232.0000 - val_loss: 30439256064.0000\n",
      "Epoch 231/400\n",
      "119/119 [==============================] - 0s 2ms/step - loss: 31004180480.0000 - val_loss: 30439084032.0000\n",
      "Epoch 232/400\n",
      "119/119 [==============================] - 0s 2ms/step - loss: 30968799232.0000 - val_loss: 30436073472.0000\n",
      "Epoch 233/400\n",
      "119/119 [==============================] - 0s 2ms/step - loss: 30964316160.0000 - val_loss: 30384115712.0000\n",
      "Epoch 234/400\n",
      "119/119 [==============================] - 0s 2ms/step - loss: 30946473984.0000 - val_loss: 30473826304.0000\n",
      "Epoch 235/400\n",
      "119/119 [==============================] - 0s 2ms/step - loss: 30996883456.0000 - val_loss: 30358290432.0000\n",
      "Epoch 236/400\n",
      "119/119 [==============================] - 0s 2ms/step - loss: 30913873920.0000 - val_loss: 30331529216.0000\n",
      "Epoch 237/400\n",
      "119/119 [==============================] - 0s 2ms/step - loss: 30919161856.0000 - val_loss: 30328322048.0000\n",
      "Epoch 238/400\n",
      "119/119 [==============================] - 0s 2ms/step - loss: 30866378752.0000 - val_loss: 30283659264.0000\n",
      "Epoch 239/400\n",
      "119/119 [==============================] - 0s 2ms/step - loss: 30908303360.0000 - val_loss: 30263359488.0000\n",
      "Epoch 240/400\n",
      "119/119 [==============================] - 0s 2ms/step - loss: 30876456960.0000 - val_loss: 30271320064.0000\n",
      "Epoch 241/400\n",
      "119/119 [==============================] - 0s 2ms/step - loss: 30854868992.0000 - val_loss: 30266056704.0000\n",
      "Epoch 242/400\n",
      "119/119 [==============================] - 0s 2ms/step - loss: 30827247616.0000 - val_loss: 30230755328.0000\n",
      "Epoch 243/400\n",
      "119/119 [==============================] - 0s 2ms/step - loss: 30907660288.0000 - val_loss: 30227021824.0000\n",
      "Epoch 244/400\n",
      "119/119 [==============================] - 0s 2ms/step - loss: 30753583104.0000 - val_loss: 30355425280.0000\n",
      "Epoch 245/400\n",
      "119/119 [==============================] - 0s 2ms/step - loss: 30807375872.0000 - val_loss: 30201825280.0000\n",
      "Epoch 246/400\n",
      "119/119 [==============================] - 0s 2ms/step - loss: 30813831168.0000 - val_loss: 30173075456.0000\n",
      "Epoch 247/400\n",
      "119/119 [==============================] - 0s 2ms/step - loss: 30752786432.0000 - val_loss: 30161752064.0000\n",
      "Epoch 248/400\n",
      "119/119 [==============================] - 0s 2ms/step - loss: 30707380224.0000 - val_loss: 30151100416.0000\n",
      "Epoch 249/400\n",
      "119/119 [==============================] - 0s 2ms/step - loss: 30720112640.0000 - val_loss: 30249674752.0000\n",
      "Epoch 250/400\n",
      "119/119 [==============================] - 0s 2ms/step - loss: 30706546688.0000 - val_loss: 30204309504.0000\n",
      "Epoch 251/400\n",
      "119/119 [==============================] - 0s 2ms/step - loss: 30722846720.0000 - val_loss: 30167691264.0000\n",
      "Epoch 252/400\n",
      "119/119 [==============================] - 0s 2ms/step - loss: 30745909248.0000 - val_loss: 30085349376.0000\n",
      "Epoch 253/400\n",
      "119/119 [==============================] - 0s 2ms/step - loss: 30666242048.0000 - val_loss: 30091010048.0000\n",
      "Epoch 254/400\n",
      "119/119 [==============================] - 0s 2ms/step - loss: 30621816832.0000 - val_loss: 30226010112.0000\n",
      "Epoch 255/400\n",
      "119/119 [==============================] - 0s 2ms/step - loss: 30613082112.0000 - val_loss: 30079027200.0000\n",
      "Epoch 256/400\n",
      "119/119 [==============================] - 0s 2ms/step - loss: 30694121472.0000 - val_loss: 30073673728.0000\n",
      "Epoch 257/400\n",
      "119/119 [==============================] - 0s 2ms/step - loss: 30593245184.0000 - val_loss: 30012956672.0000\n",
      "Epoch 258/400\n",
      "119/119 [==============================] - 0s 2ms/step - loss: 30590578688.0000 - val_loss: 30001362944.0000\n",
      "Epoch 259/400\n",
      "119/119 [==============================] - 0s 2ms/step - loss: 30611544064.0000 - val_loss: 29974499328.0000\n",
      "Epoch 260/400\n",
      "119/119 [==============================] - 0s 2ms/step - loss: 30534455296.0000 - val_loss: 30066313216.0000\n",
      "Epoch 261/400\n",
      "119/119 [==============================] - 0s 2ms/step - loss: 30576584704.0000 - val_loss: 30038079488.0000\n",
      "Epoch 262/400\n",
      "119/119 [==============================] - 0s 2ms/step - loss: 30508681216.0000 - val_loss: 29954684928.0000\n",
      "Epoch 263/400\n",
      "119/119 [==============================] - 0s 2ms/step - loss: 30470342656.0000 - val_loss: 30127589376.0000\n",
      "Epoch 264/400\n",
      "119/119 [==============================] - 0s 2ms/step - loss: 30488868864.0000 - val_loss: 29899849728.0000\n",
      "Epoch 265/400\n",
      "119/119 [==============================] - 0s 2ms/step - loss: 30460147712.0000 - val_loss: 29920813056.0000\n",
      "Epoch 266/400\n",
      "119/119 [==============================] - 0s 2ms/step - loss: 30427508736.0000 - val_loss: 29968580608.0000\n",
      "Epoch 267/400\n",
      "119/119 [==============================] - 0s 2ms/step - loss: 30458118144.0000 - val_loss: 29905920000.0000\n",
      "Epoch 268/400\n",
      "119/119 [==============================] - 0s 2ms/step - loss: 30488487936.0000 - val_loss: 29858484224.0000\n",
      "Epoch 269/400\n",
      "119/119 [==============================] - 0s 2ms/step - loss: 30392973312.0000 - val_loss: 29850308608.0000\n",
      "Epoch 270/400\n",
      "119/119 [==============================] - 0s 2ms/step - loss: 30396436480.0000 - val_loss: 29810595840.0000\n",
      "Epoch 271/400\n",
      "119/119 [==============================] - 0s 2ms/step - loss: 30371876864.0000 - val_loss: 29860923392.0000\n",
      "Epoch 272/400\n",
      "119/119 [==============================] - 0s 2ms/step - loss: 30370140160.0000 - val_loss: 29785165824.0000\n",
      "Epoch 273/400\n",
      "119/119 [==============================] - 0s 2ms/step - loss: 30310457344.0000 - val_loss: 29832726528.0000\n",
      "Epoch 274/400\n",
      "119/119 [==============================] - 0s 2ms/step - loss: 30370260992.0000 - val_loss: 29810214912.0000\n",
      "Epoch 275/400\n",
      "119/119 [==============================] - 0s 2ms/step - loss: 30294550528.0000 - val_loss: 29843070976.0000\n",
      "Epoch 276/400\n",
      "119/119 [==============================] - 0s 2ms/step - loss: 30283280384.0000 - val_loss: 29809506304.0000\n",
      "Epoch 277/400\n",
      "119/119 [==============================] - 0s 2ms/step - loss: 30329704448.0000 - val_loss: 29693108224.0000\n",
      "Epoch 278/400\n",
      "119/119 [==============================] - 0s 2ms/step - loss: 30295363584.0000 - val_loss: 29691043840.0000\n",
      "Epoch 279/400\n",
      "119/119 [==============================] - 0s 2ms/step - loss: 30225750016.0000 - val_loss: 29666519040.0000\n",
      "Epoch 280/400\n",
      "119/119 [==============================] - 0s 2ms/step - loss: 30225344512.0000 - val_loss: 29645187072.0000\n",
      "Epoch 281/400\n",
      "119/119 [==============================] - 0s 2ms/step - loss: 30243688448.0000 - val_loss: 29649936384.0000\n",
      "Epoch 282/400\n",
      "119/119 [==============================] - 0s 2ms/step - loss: 30245144576.0000 - val_loss: 29622040576.0000\n",
      "Epoch 283/400\n",
      "119/119 [==============================] - 0s 2ms/step - loss: 30175946752.0000 - val_loss: 29685473280.0000\n",
      "Epoch 284/400\n",
      "119/119 [==============================] - 0s 2ms/step - loss: 30148265984.0000 - val_loss: 29714237440.0000\n",
      "Epoch 285/400\n",
      "119/119 [==============================] - 0s 2ms/step - loss: 30176808960.0000 - val_loss: 29587644416.0000\n",
      "Epoch 286/400\n",
      "119/119 [==============================] - 0s 2ms/step - loss: 30117025792.0000 - val_loss: 29558792192.0000\n",
      "Epoch 287/400\n",
      "119/119 [==============================] - 0s 2ms/step - loss: 30101477376.0000 - val_loss: 29562597376.0000\n",
      "Epoch 288/400\n",
      "119/119 [==============================] - 0s 2ms/step - loss: 30092249088.0000 - val_loss: 29654024192.0000\n",
      "Epoch 289/400\n",
      "119/119 [==============================] - 0s 2ms/step - loss: 30088316928.0000 - val_loss: 29547950080.0000\n",
      "Epoch 290/400\n",
      "119/119 [==============================] - 0s 2ms/step - loss: 30064521216.0000 - val_loss: 29561645056.0000\n",
      "Epoch 291/400\n",
      "119/119 [==============================] - 0s 2ms/step - loss: 30024790016.0000 - val_loss: 29639174144.0000\n",
      "Epoch 292/400\n",
      "119/119 [==============================] - 0s 2ms/step - loss: 30058883072.0000 - val_loss: 29495527424.0000\n",
      "Epoch 293/400\n",
      "119/119 [==============================] - 0s 2ms/step - loss: 30006624256.0000 - val_loss: 29536229376.0000\n",
      "Epoch 294/400\n",
      "119/119 [==============================] - 0s 2ms/step - loss: 29991993344.0000 - val_loss: 29464653824.0000\n",
      "Epoch 295/400\n",
      "119/119 [==============================] - 0s 2ms/step - loss: 29952856064.0000 - val_loss: 29475651584.0000\n",
      "Epoch 296/400\n",
      "119/119 [==============================] - 0s 2ms/step - loss: 29964517376.0000 - val_loss: 29450199040.0000\n",
      "Epoch 297/400\n",
      "119/119 [==============================] - 0s 2ms/step - loss: 29940314112.0000 - val_loss: 29456844800.0000\n",
      "Epoch 298/400\n",
      "119/119 [==============================] - 0s 2ms/step - loss: 29940013056.0000 - val_loss: 29526376448.0000\n",
      "Epoch 299/400\n",
      "119/119 [==============================] - 0s 2ms/step - loss: 29877137408.0000 - val_loss: 29511651328.0000\n",
      "Epoch 300/400\n",
      "119/119 [==============================] - 0s 2ms/step - loss: 29921050624.0000 - val_loss: 29489588224.0000\n",
      "Epoch 301/400\n",
      "119/119 [==============================] - 0s 2ms/step - loss: 29875482624.0000 - val_loss: 29438957568.0000\n",
      "Epoch 302/400\n",
      "119/119 [==============================] - 0s 2ms/step - loss: 29886783488.0000 - val_loss: 29394577408.0000\n",
      "Epoch 303/400\n",
      "119/119 [==============================] - 0s 2ms/step - loss: 29870270464.0000 - val_loss: 29396944896.0000\n",
      "Epoch 304/400\n",
      "119/119 [==============================] - 0s 2ms/step - loss: 29893552128.0000 - val_loss: 29369608192.0000\n",
      "Epoch 305/400\n",
      "119/119 [==============================] - 0s 2ms/step - loss: 29813880832.0000 - val_loss: 29341546496.0000\n",
      "Epoch 306/400\n",
      "119/119 [==============================] - 0s 2ms/step - loss: 29837252608.0000 - val_loss: 29321611264.0000\n",
      "Epoch 307/400\n",
      "119/119 [==============================] - 0s 2ms/step - loss: 29758177280.0000 - val_loss: 29318080512.0000\n",
      "Epoch 308/400\n",
      "119/119 [==============================] - 0s 2ms/step - loss: 29784107008.0000 - val_loss: 29403822080.0000\n",
      "Epoch 309/400\n",
      "119/119 [==============================] - 0s 2ms/step - loss: 29744556032.0000 - val_loss: 29358802944.0000\n",
      "Epoch 310/400\n",
      "119/119 [==============================] - 0s 2ms/step - loss: 29730000896.0000 - val_loss: 29261664256.0000\n",
      "Epoch 311/400\n",
      "119/119 [==============================] - 0s 2ms/step - loss: 29734645760.0000 - val_loss: 29252796416.0000\n",
      "Epoch 312/400\n",
      "119/119 [==============================] - 0s 2ms/step - loss: 29711253504.0000 - val_loss: 29353682944.0000\n",
      "Epoch 313/400\n",
      "119/119 [==============================] - 0s 2ms/step - loss: 29699276800.0000 - val_loss: 29328271360.0000\n",
      "Epoch 314/400\n",
      "119/119 [==============================] - 0s 2ms/step - loss: 29691508736.0000 - val_loss: 29319104512.0000\n",
      "Epoch 315/400\n",
      "119/119 [==============================] - 0s 2ms/step - loss: 29657274368.0000 - val_loss: 29199003648.0000\n",
      "Epoch 316/400\n",
      "119/119 [==============================] - 0s 2ms/step - loss: 29677789184.0000 - val_loss: 29282363392.0000\n",
      "Epoch 317/400\n",
      "119/119 [==============================] - 0s 2ms/step - loss: 29595555840.0000 - val_loss: 29188212736.0000\n",
      "Epoch 318/400\n",
      "119/119 [==============================] - 0s 2ms/step - loss: 29633986560.0000 - val_loss: 29157187584.0000\n",
      "Epoch 319/400\n",
      "119/119 [==============================] - 0s 2ms/step - loss: 29599924224.0000 - val_loss: 29288560640.0000\n",
      "Epoch 320/400\n",
      "119/119 [==============================] - 0s 2ms/step - loss: 29621071872.0000 - val_loss: 29133076480.0000\n",
      "Epoch 321/400\n",
      "119/119 [==============================] - 0s 2ms/step - loss: 29557647360.0000 - val_loss: 29187670016.0000\n",
      "Epoch 322/400\n",
      "119/119 [==============================] - 0s 2ms/step - loss: 29532186624.0000 - val_loss: 29142276096.0000\n",
      "Epoch 323/400\n",
      "119/119 [==============================] - 0s 2ms/step - loss: 29534519296.0000 - val_loss: 29090600960.0000\n",
      "Epoch 324/400\n",
      "119/119 [==============================] - 0s 2ms/step - loss: 29598781440.0000 - val_loss: 29086502912.0000\n",
      "Epoch 325/400\n",
      "119/119 [==============================] - 0s 2ms/step - loss: 29506926592.0000 - val_loss: 29061390336.0000\n",
      "Epoch 326/400\n",
      "119/119 [==============================] - 0s 2ms/step - loss: 29506967552.0000 - val_loss: 29075046400.0000\n",
      "Epoch 327/400\n",
      "119/119 [==============================] - 0s 2ms/step - loss: 29588867072.0000 - val_loss: 29046202368.0000\n",
      "Epoch 328/400\n",
      "119/119 [==============================] - 0s 2ms/step - loss: 29481132032.0000 - val_loss: 29044363264.0000\n",
      "Epoch 329/400\n",
      "119/119 [==============================] - 0s 2ms/step - loss: 29444202496.0000 - val_loss: 29021964288.0000\n",
      "Epoch 330/400\n",
      "119/119 [==============================] - 0s 2ms/step - loss: 29417963520.0000 - val_loss: 29031290880.0000\n",
      "Epoch 331/400\n",
      "119/119 [==============================] - 0s 2ms/step - loss: 29405052928.0000 - val_loss: 29101819904.0000\n",
      "Epoch 332/400\n",
      "119/119 [==============================] - 0s 2ms/step - loss: 29405874176.0000 - val_loss: 28988512256.0000\n",
      "Epoch 333/400\n",
      "119/119 [==============================] - 0s 2ms/step - loss: 29419059200.0000 - val_loss: 28955176960.0000\n",
      "Epoch 334/400\n",
      "119/119 [==============================] - 0s 2ms/step - loss: 29339273216.0000 - val_loss: 28935942144.0000\n",
      "Epoch 335/400\n",
      "119/119 [==============================] - 0s 2ms/step - loss: 29366784000.0000 - val_loss: 28993173504.0000\n",
      "Epoch 336/400\n",
      "119/119 [==============================] - 0s 2ms/step - loss: 29332731904.0000 - val_loss: 28980944896.0000\n",
      "Epoch 337/400\n",
      "119/119 [==============================] - 0s 2ms/step - loss: 29296740352.0000 - val_loss: 29074069504.0000\n",
      "Epoch 338/400\n",
      "119/119 [==============================] - 0s 2ms/step - loss: 29327261696.0000 - val_loss: 28908947456.0000\n",
      "Epoch 339/400\n",
      "119/119 [==============================] - 0s 2ms/step - loss: 29318670336.0000 - val_loss: 28984459264.0000\n",
      "Epoch 340/400\n",
      "119/119 [==============================] - 0s 2ms/step - loss: 29269198848.0000 - val_loss: 28883099648.0000\n",
      "Epoch 341/400\n",
      "119/119 [==============================] - 0s 2ms/step - loss: 29239029760.0000 - val_loss: 28845508608.0000\n",
      "Epoch 342/400\n",
      "119/119 [==============================] - 0s 2ms/step - loss: 29226008576.0000 - val_loss: 28844365824.0000\n",
      "Epoch 343/400\n",
      "119/119 [==============================] - 0s 2ms/step - loss: 29202917376.0000 - val_loss: 28824168448.0000\n",
      "Epoch 344/400\n",
      "119/119 [==============================] - 0s 2ms/step - loss: 29216409600.0000 - val_loss: 28901935104.0000\n",
      "Epoch 345/400\n",
      "119/119 [==============================] - 0s 2ms/step - loss: 29232842752.0000 - val_loss: 28832749568.0000\n",
      "Epoch 346/400\n",
      "119/119 [==============================] - 0s 2ms/step - loss: 29166528512.0000 - val_loss: 28808865792.0000\n",
      "Epoch 347/400\n",
      "119/119 [==============================] - 0s 2ms/step - loss: 29201627136.0000 - val_loss: 28825202688.0000\n",
      "Epoch 348/400\n",
      "119/119 [==============================] - 0s 2ms/step - loss: 29156585472.0000 - val_loss: 28758693888.0000\n",
      "Epoch 349/400\n",
      "119/119 [==============================] - 0s 2ms/step - loss: 29129449472.0000 - val_loss: 28742455296.0000\n",
      "Epoch 350/400\n",
      "119/119 [==============================] - 0s 2ms/step - loss: 29098921984.0000 - val_loss: 28754417664.0000\n",
      "Epoch 351/400\n",
      "119/119 [==============================] - 0s 2ms/step - loss: 29152565248.0000 - val_loss: 28736243712.0000\n",
      "Epoch 352/400\n",
      "119/119 [==============================] - 0s 2ms/step - loss: 29182005248.0000 - val_loss: 28752386048.0000\n",
      "Epoch 353/400\n",
      "119/119 [==============================] - 0s 2ms/step - loss: 29072556032.0000 - val_loss: 28685484032.0000\n",
      "Epoch 354/400\n",
      "119/119 [==============================] - 0s 2ms/step - loss: 29078571008.0000 - val_loss: 28678244352.0000\n",
      "Epoch 355/400\n",
      "119/119 [==============================] - 0s 2ms/step - loss: 29049155584.0000 - val_loss: 28657833984.0000\n",
      "Epoch 356/400\n",
      "119/119 [==============================] - 0s 2ms/step - loss: 29017516032.0000 - val_loss: 28722110464.0000\n",
      "Epoch 357/400\n",
      "119/119 [==============================] - 0s 2ms/step - loss: 29007923200.0000 - val_loss: 28657475584.0000\n",
      "Epoch 358/400\n",
      "119/119 [==============================] - 0s 2ms/step - loss: 29020903424.0000 - val_loss: 28609523712.0000\n",
      "Epoch 359/400\n",
      "119/119 [==============================] - 0s 2ms/step - loss: 29007421440.0000 - val_loss: 28583112704.0000\n",
      "Epoch 360/400\n",
      "119/119 [==============================] - 0s 2ms/step - loss: 28998664192.0000 - val_loss: 28590759936.0000\n",
      "Epoch 361/400\n",
      "119/119 [==============================] - 0s 2ms/step - loss: 28959553536.0000 - val_loss: 28558297088.0000\n",
      "Epoch 362/400\n",
      "119/119 [==============================] - 0s 2ms/step - loss: 28953749504.0000 - val_loss: 28664442880.0000\n",
      "Epoch 363/400\n",
      "119/119 [==============================] - 0s 2ms/step - loss: 28969472000.0000 - val_loss: 28783841280.0000\n",
      "Epoch 364/400\n",
      "119/119 [==============================] - 0s 2ms/step - loss: 28929824768.0000 - val_loss: 28684036096.0000\n",
      "Epoch 365/400\n",
      "119/119 [==============================] - 0s 2ms/step - loss: 28930977792.0000 - val_loss: 28515096576.0000\n",
      "Epoch 366/400\n",
      "119/119 [==============================] - 0s 2ms/step - loss: 28912777216.0000 - val_loss: 28540342272.0000\n",
      "Epoch 367/400\n",
      "119/119 [==============================] - 0s 2ms/step - loss: 28872300544.0000 - val_loss: 28468611072.0000\n",
      "Epoch 368/400\n",
      "119/119 [==============================] - 0s 2ms/step - loss: 28850182144.0000 - val_loss: 28469661696.0000\n",
      "Epoch 369/400\n",
      "119/119 [==============================] - 0s 2ms/step - loss: 28839899136.0000 - val_loss: 28557639680.0000\n",
      "Epoch 370/400\n",
      "119/119 [==============================] - 0s 2ms/step - loss: 28855336960.0000 - val_loss: 28433934336.0000\n",
      "Epoch 371/400\n",
      "119/119 [==============================] - 0s 2ms/step - loss: 28839211008.0000 - val_loss: 28540825600.0000\n",
      "Epoch 372/400\n",
      "119/119 [==============================] - 0s 2ms/step - loss: 28828684288.0000 - val_loss: 28429219840.0000\n",
      "Epoch 373/400\n",
      "119/119 [==============================] - 0s 2ms/step - loss: 28773926912.0000 - val_loss: 28438734848.0000\n",
      "Epoch 374/400\n",
      "119/119 [==============================] - 0s 2ms/step - loss: 28772923392.0000 - val_loss: 28399581184.0000\n",
      "Epoch 375/400\n",
      "119/119 [==============================] - 0s 3ms/step - loss: 28780972032.0000 - val_loss: 28469018624.0000\n",
      "Epoch 376/400\n",
      "119/119 [==============================] - 0s 3ms/step - loss: 28782155776.0000 - val_loss: 28358815744.0000\n",
      "Epoch 377/400\n",
      "119/119 [==============================] - 0s 2ms/step - loss: 28755425280.0000 - val_loss: 28356304896.0000\n",
      "Epoch 378/400\n",
      "119/119 [==============================] - 0s 2ms/step - loss: 28720140288.0000 - val_loss: 28478285824.0000\n",
      "Epoch 379/400\n",
      "119/119 [==============================] - 0s 2ms/step - loss: 28745048064.0000 - val_loss: 28419581952.0000\n",
      "Epoch 380/400\n",
      "119/119 [==============================] - 0s 2ms/step - loss: 28706289664.0000 - val_loss: 28320813056.0000\n",
      "Epoch 381/400\n",
      "119/119 [==============================] - 0s 2ms/step - loss: 28682276864.0000 - val_loss: 28810250240.0000\n",
      "Epoch 382/400\n",
      "119/119 [==============================] - 0s 2ms/step - loss: 28710862848.0000 - val_loss: 28281407488.0000\n",
      "Epoch 383/400\n",
      "119/119 [==============================] - 0s 2ms/step - loss: 28666689536.0000 - val_loss: 28260958208.0000\n",
      "Epoch 384/400\n",
      "119/119 [==============================] - 0s 2ms/step - loss: 28639123456.0000 - val_loss: 28333017088.0000\n",
      "Epoch 385/400\n",
      "119/119 [==============================] - 0s 2ms/step - loss: 28613124096.0000 - val_loss: 28241729536.0000\n",
      "Epoch 386/400\n",
      "119/119 [==============================] - 0s 2ms/step - loss: 28639291392.0000 - val_loss: 28229328896.0000\n",
      "Epoch 387/400\n",
      "119/119 [==============================] - 0s 2ms/step - loss: 28651372544.0000 - val_loss: 28214603776.0000\n",
      "Epoch 388/400\n",
      "119/119 [==============================] - 0s 2ms/step - loss: 28621449216.0000 - val_loss: 28209719296.0000\n",
      "Epoch 389/400\n",
      "119/119 [==============================] - 0s 2ms/step - loss: 28547534848.0000 - val_loss: 28218980352.0000\n",
      "Epoch 390/400\n",
      "119/119 [==============================] - 0s 2ms/step - loss: 28582580224.0000 - val_loss: 28180301824.0000\n",
      "Epoch 391/400\n",
      "119/119 [==============================] - 0s 2ms/step - loss: 28538617856.0000 - val_loss: 28190404608.0000\n",
      "Epoch 392/400\n",
      "119/119 [==============================] - 0s 2ms/step - loss: 28529430528.0000 - val_loss: 28249229312.0000\n",
      "Epoch 393/400\n",
      "119/119 [==============================] - 0s 2ms/step - loss: 28528261120.0000 - val_loss: 28158001152.0000\n",
      "Epoch 394/400\n",
      "119/119 [==============================] - 0s 2ms/step - loss: 28486809600.0000 - val_loss: 28207968256.0000\n",
      "Epoch 395/400\n",
      "119/119 [==============================] - 0s 2ms/step - loss: 28514832384.0000 - val_loss: 28138037248.0000\n",
      "Epoch 396/400\n",
      "119/119 [==============================] - 0s 2ms/step - loss: 28440731648.0000 - val_loss: 28352884736.0000\n",
      "Epoch 397/400\n",
      "119/119 [==============================] - 0s 2ms/step - loss: 28463085568.0000 - val_loss: 28123713536.0000\n",
      "Epoch 398/400\n",
      "119/119 [==============================] - 0s 2ms/step - loss: 28428460032.0000 - val_loss: 28122445824.0000\n",
      "Epoch 399/400\n",
      "119/119 [==============================] - 0s 2ms/step - loss: 28429381632.0000 - val_loss: 28265904128.0000\n",
      "Epoch 400/400\n",
      "119/119 [==============================] - 0s 2ms/step - loss: 28445542400.0000 - val_loss: 28102064128.0000\n"
     ]
    },
    {
     "data": {
      "text/plain": [
       "<tensorflow.python.keras.callbacks.History at 0x7ff0846b03d0>"
      ]
     },
     "execution_count": 21,
     "metadata": {},
     "output_type": "execute_result"
    }
   ],
   "source": [
    "model.fit(x=X_train,y=y_train.values,\n",
    "          validation_data=(X_test,y_test.values),\n",
    "          batch_size=128,epochs=400)"
   ]
  },
  {
   "cell_type": "markdown",
   "metadata": {
    "papermill": {
     "duration": 0.959092,
     "end_time": "2020-09-26T15:47:59.609883",
     "exception": false,
     "start_time": "2020-09-26T15:47:58.650791",
     "status": "completed"
    },
    "tags": []
   },
   "source": [
    "### Training loss per epoch\n",
    "* This plot shows the training loss per epoch.\n",
    "* This plot helps us to see if there is overfitting in the model. In this case there is no overfitting because both lines go down at the same time. "
   ]
  },
  {
   "cell_type": "code",
   "execution_count": 22,
   "metadata": {
    "_kg_hide-input": true,
    "execution": {
     "iopub.execute_input": "2020-09-26T15:48:01.400698Z",
     "iopub.status.busy": "2020-09-26T15:48:01.386281Z",
     "iopub.status.idle": "2020-09-26T15:48:02.145496Z",
     "shell.execute_reply": "2020-09-26T15:48:02.144709Z"
    },
    "papermill": {
     "duration": 1.650316,
     "end_time": "2020-09-26T15:48:02.145638",
     "exception": false,
     "start_time": "2020-09-26T15:48:00.495322",
     "status": "completed"
    },
    "tags": []
   },
   "outputs": [
    {
     "data": {
      "image/png": "[encoded data removed]",
      "text/plain": [
       "<Figure size 1080x360 with 1 Axes>"
      ]
     },
     "metadata": {},
     "output_type": "display_data"
    }
   ],
   "source": [
    "losses = pd.DataFrame(model.history.history)\n",
    "\n",
    "plt.figure(figsize=(15,5))\n",
    "sns.lineplot(data=losses,lw=3)\n",
    "plt.xlabel('Epochs')\n",
    "plt.ylabel('')\n",
    "plt.title('Training Loss per Epoch')\n",
    "sns.despine()"
   ]
  },
  {
   "cell_type": "markdown",
   "metadata": {
    "papermill": {
     "duration": 0.875192,
     "end_time": "2020-09-26T15:48:03.900159",
     "exception": false,
     "start_time": "2020-09-26T15:48:03.024967",
     "status": "completed"
    },
    "tags": []
   },
   "source": [
    "<a id=\"ch9\"></a>\n",
    "## Evaluation on test data\n",
    "---\n",
    "### Regression Evaluation Metrics\n",
    "\n",
    "**Mean Absolute Error** (MAE) is the mean of the absolute value of the errors:\n",
    "\n",
    "$$\\frac 1n\\sum_{i=1}^n|y_i-\\hat{y}_i|$$\n",
    "\n",
    "**Mean Squared Error** (MSE) is the mean of the squared errors:\n",
    "\n",
    "$$\\frac 1n\\sum_{i=1}^n(y_i-\\hat{y}_i)^2$$\n",
    "\n",
    "**Root Mean Squared Error** (RMSE) is the square root of the mean of the squared errors:\n",
    "\n",
    "$$\\sqrt{\\frac 1n\\sum_{i=1}^n(y_i-\\hat{y}_i)^2}$$\n",
    "\n",
    "Comparing these metrics:\n",
    "\n",
    "- **MAE** is the easiest to understand, because it's the average error.\n",
    "- **MSE** is more popular than MAE, because MSE \"punishes\" larger errors, which tends to be useful in the real world.\n",
    "- **RMSE** is even more popular than MSE, because RMSE is interpretable in the \"y\" units."
   ]
  },
  {
   "cell_type": "markdown",
   "metadata": {
    "papermill": {
     "duration": 0.876505,
     "end_time": "2020-09-26T15:48:05.648831",
     "exception": false,
     "start_time": "2020-09-26T15:48:04.772326",
     "status": "completed"
    },
    "tags": []
   },
   "source": [
    "### Predicting on brand new data\n",
    "In this part we are giving the model the test set to get a list of predictions. Then we compare the correct values with the list of predictions. We use different metrics to compare the predictions, in this case we use MAE, MSE, RMSE and Variance Regression Score. \n",
    "\n",
    "Let us start by analyzing the MAE, which is \\\\$103,500. This means that our model is off on average about \\\\$100,000.\n",
    "\n",
    "***Is that MAE good or bad?***\n",
    "\n",
    "For that we must take into account our original data set and see what kind of values we have. For instance, the mean is 540,000, therefore the MEA is about 19% of the mean price. This is not a particularly good result.\n",
    "\n",
    "To better understand this error, we can use the variance regression score, where the best possible score is 1.0 and lower values are worse. This tells you how much variance is being explain by your model. In our case we have 0.80 which is a normal result. "
   ]
  },
  {
   "cell_type": "code",
   "execution_count": 23,
   "metadata": {
    "_kg_hide-input": true,
    "execution": {
     "iopub.execute_input": "2020-09-26T15:48:07.448783Z",
     "iopub.status.busy": "2020-09-26T15:48:07.447970Z",
     "iopub.status.idle": "2020-09-26T15:48:07.730282Z",
     "shell.execute_reply": "2020-09-26T15:48:07.731217Z"
    },
    "papermill": {
     "duration": 1.194529,
     "end_time": "2020-09-26T15:48:07.731468",
     "exception": false,
     "start_time": "2020-09-26T15:48:06.536939",
     "status": "completed"
    },
    "tags": []
   },
   "outputs": [
    {
     "name": "stdout",
     "output_type": "stream",
     "text": [
      "MAE:  104004.9563336193\n",
      "MSE:  28102062180.86872\n",
      "RMSE:  167636.6969994002\n",
      "Variance Regression Score:  0.7998100478357244\n",
      "\n",
      "\n",
      "Descriptive Statistics:\n",
      " count    2.161300e+04\n",
      "mean     5.400881e+05\n",
      "std      3.671272e+05\n",
      "min      7.500000e+04\n",
      "25%      3.219500e+05\n",
      "50%      4.500000e+05\n",
      "75%      6.450000e+05\n",
      "max      7.700000e+06\n",
      "Name: price, dtype: float64\n"
     ]
    }
   ],
   "source": [
    "# predictions on the test set\n",
    "predictions = model.predict(X_test)\n",
    "\n",
    "print('MAE: ',mean_absolute_error(y_test,predictions))\n",
    "print('MSE: ',mean_squared_error(y_test,predictions))\n",
    "print('RMSE: ',np.sqrt(mean_squared_error(y_test,predictions)))\n",
    "print('Variance Regression Score: ',explained_variance_score(y_test,predictions))\n",
    "\n",
    "print('\\n\\nDescriptive Statistics:\\n',df['price'].describe())"
   ]
  },
  {
   "cell_type": "markdown",
   "metadata": {
    "papermill": {
     "duration": 0.874332,
     "end_time": "2020-09-26T15:48:09.480851",
     "exception": false,
     "start_time": "2020-09-26T15:48:08.606519",
     "status": "completed"
    },
    "tags": []
   },
   "source": [
    "### Model predictions vs perfect fit\n",
    "* We can compare the model predictions with a perfect fit to see how accurate the model is.\n",
    "* The red line represents the perfect prediction. \n",
    "* We are being punish by the outliers, which are the expensive houses. Our model is not good predicting luxury houses.\n",
    "* On the other hand, our model is good predicting the price of houses between o and \\\\$2 million. There is clearly a good fit. \n",
    "* It may be worth it retraining our model just on price houses below \\\\$3 million."
   ]
  },
  {
   "cell_type": "code",
   "execution_count": 24,
   "metadata": {
    "_kg_hide-input": true,
    "execution": {
     "iopub.execute_input": "2020-09-26T15:48:11.255772Z",
     "iopub.status.busy": "2020-09-26T15:48:11.243407Z",
     "iopub.status.idle": "2020-09-26T15:48:12.018331Z",
     "shell.execute_reply": "2020-09-26T15:48:12.017553Z"
    },
    "papermill": {
     "duration": 1.661068,
     "end_time": "2020-09-26T15:48:12.018485",
     "exception": false,
     "start_time": "2020-09-26T15:48:10.357417",
     "status": "completed"
    },
    "tags": []
   },
   "outputs": [
    {
     "data": {
      "text/plain": [
       "[Text(0, 0.5, 'Model Predictions'),\n",
       " Text(0.5, 0, 'Test True Y'),\n",
       " Text(0.5, 1.0, 'Model Predictions vs Perfect Fit')]"
      ]
     },
     "execution_count": 24,
     "metadata": {},
     "output_type": "execute_result"
    },
    {
     "data": {
      "image/png": "[encoded data removed]",
      "text/plain": [
       "<Figure size 1080x360 with 2 Axes>"
      ]
     },
     "metadata": {},
     "output_type": "display_data"
    }
   ],
   "source": [
    "f, axes = plt.subplots(1, 2,figsize=(15,5))\n",
    "\n",
    "# Our model predictions\n",
    "plt.scatter(y_test,predictions)\n",
    "\n",
    "# Perfect predictions\n",
    "plt.plot(y_test,y_test,'r')\n",
    "\n",
    "errors = y_test.values.reshape(6484, 1) - predictions\n",
    "sns.distplot(errors, ax=axes[0])\n",
    "\n",
    "sns.despine(left=True, bottom=True)\n",
    "axes[0].set(xlabel='Error', ylabel='', title='Error Histogram')\n",
    "axes[1].set(xlabel='Test True Y', ylabel='Model Predictions', title='Model Predictions vs Perfect Fit')\n"
   ]
  },
  {
   "cell_type": "markdown",
   "metadata": {
    "papermill": {
     "duration": 0.876276,
     "end_time": "2020-09-26T15:48:13.775922",
     "exception": false,
     "start_time": "2020-09-26T15:48:12.899646",
     "status": "completed"
    },
    "tags": []
   },
   "source": [
    "<a id=\"ch10\"></a>\n",
    "## Predicting on a brand new house\n",
    "---\n",
    "We are going to use the model to predict the price on a brand-new house. We are going to choose the first house of the data set and drop the price. single_house is going to have all the features that we need to predict the price. After that we need to reshape the variable and scale the features.\n",
    "\n",
    "The original price is \\\\$221,900 and the model prediction is \\\\$280,000. "
   ]
  },
  {
   "cell_type": "code",
   "execution_count": 25,
   "metadata": {
    "_kg_hide-input": true,
    "execution": {
     "iopub.execute_input": "2020-09-26T15:48:15.543935Z",
     "iopub.status.busy": "2020-09-26T15:48:15.542959Z",
     "iopub.status.idle": "2020-09-26T15:48:15.587566Z",
     "shell.execute_reply": "2020-09-26T15:48:15.586883Z"
    },
    "papermill": {
     "duration": 0.936181,
     "end_time": "2020-09-26T15:48:15.587715",
     "exception": false,
     "start_time": "2020-09-26T15:48:14.651534",
     "status": "completed"
    },
    "tags": []
   },
   "outputs": [
    {
     "name": "stdout",
     "output_type": "stream",
     "text": [
      "Features of new house:\n",
      "bedrooms            3.0000\n",
      "bathrooms           1.0000\n",
      "sqft_living      1180.0000\n",
      "sqft_lot         5650.0000\n",
      "floors              1.0000\n",
      "waterfront          0.0000\n",
      "view                0.0000\n",
      "condition           3.0000\n",
      "grade               7.0000\n",
      "sqft_above       1180.0000\n",
      "sqft_basement       0.0000\n",
      "yr_built         1955.0000\n",
      "yr_renovated        0.0000\n",
      "lat                47.5112\n",
      "long             -122.2570\n",
      "sqft_living15    1340.0000\n",
      "sqft_lot15       5650.0000\n",
      "month              10.0000\n",
      "year             2014.0000\n",
      "Name: 0, dtype: float64\n",
      "\n",
      "Prediction Price: 285858.25\n",
      "\n",
      "Original Price: 221900.0\n"
     ]
    }
   ],
   "source": [
    "# fueatures of new house\n",
    "single_house = df.drop('price',axis=1).iloc[0]\n",
    "print(f'Features of new house:\\n{single_house}')\n",
    "\n",
    "# reshape the numpy array and scale the features\n",
    "single_house = scaler.transform(single_house.values.reshape(-1, 19))\n",
    "\n",
    "# run the model and get the price prediction\n",
    "print('\\nPrediction Price:',model.predict(single_house)[0,0])\n",
    "\n",
    "# original price\n",
    "print('\\nOriginal Price:',df.iloc[0]['price'])"
   ]
  },
  {
   "cell_type": "markdown",
   "metadata": {
    "papermill": {
     "duration": 0.876461,
     "end_time": "2020-09-26T15:48:17.341232",
     "exception": false,
     "start_time": "2020-09-26T15:48:16.464771",
     "status": "completed"
    },
    "tags": []
   },
   "source": [
    "## References\n",
    "* [An Introduction to Statistical Learning with Applications in R](http://faculty.marshall.usc.edu/gareth-james/ISL/) - This book provides an introduction to statistical learning methods.\n",
    "* [Python for Data Science and Machine Learning Bootcamp](https://www.udemy.com/course/python-for-data-science-and-machine-learning-bootcamp/) - Use Python for Data Science and Machine Learning."
   ]
  },
  {
   "cell_type": "markdown",
   "metadata": {
    "papermill": {
     "duration": 0.880737,
     "end_time": "2020-09-26T15:48:19.120892",
     "exception": false,
     "start_time": "2020-09-26T15:48:18.240155",
     "status": "completed"
    },
    "tags": []
   },
   "source": [
    "**Thank you** for taking the time to read through my first exploration of a Kaggle dataset. I look forward to doing more!\n",
    "\n",
    "If you have a question or feedback, do not hesitate to comment and if you like this kernel,<b><font color='green'> please upvote! </font></b>"
   ]
  }
 ],
 "metadata": {
  "kernelspec": {
   "display_name": "Python 3",
   "language": "python",
   "name": "python3"
  },
  "language_info": {
   "codemirror_mode": {
    "name": "ipython",
    "version": 3
   },
   "file_extension": ".py",
   "mimetype": "text/x-python",
   "name": "python",
   "nbconvert_exporter": "python",
   "pygments_lexer": "ipython3",
   "version": "3.7.6"
  },
  "papermill": {
   "duration": 143.392354,
   "end_time": "2020-09-26T15:48:20.132860",
   "environment_variables": {},
   "exception": null,
   "input_path": "__notebook__.ipynb",
   "output_path": "__notebook__.ipynb",
   "parameters": {},
   "start_time": "2020-09-26T15:45:56.740506",
   "version": "2.1.0"
  }
 },
 "nbformat": 4,
 "nbformat_minor": 4
}
